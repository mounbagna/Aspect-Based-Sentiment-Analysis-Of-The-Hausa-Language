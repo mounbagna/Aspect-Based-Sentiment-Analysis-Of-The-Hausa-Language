{
  "cells": [
    {
      "cell_type": "markdown",
      "metadata": {
        "id": "view-in-github",
        "colab_type": "text"
      },
      "source": [
        "<a href=\"https://colab.research.google.com/github/mounbagna/Aspect-Based-Sentiment-Analysis-Of-The-Hausa-Language/blob/main/ABSA.ipynb\" target=\"_parent\"><img src=\"https://colab.research.google.com/assets/colab-badge.svg\" alt=\"Open In Colab\"/></a>"
      ]
    },
    {
      "cell_type": "markdown",
      "metadata": {
        "id": "-DTbgNEVbDgb"
      },
      "source": [
        "**Import Libraries**"
      ]
    },
    {
      "cell_type": "code",
      "execution_count": 8,
      "metadata": {
        "id": "jweyzGIJtJzF"
      },
      "outputs": [],
      "source": [
        "!pip install keras --quiet"
      ]
    },
    {
      "cell_type": "code",
      "execution_count": 9,
      "metadata": {
        "id": "Wgy1jlgHYAaZ"
      },
      "outputs": [],
      "source": [
        "!pip install transformers datasets scikit-learn --quiet"
      ]
    },
    {
      "cell_type": "code",
      "execution_count": 10,
      "metadata": {
        "id": "KwBOCkJ_NOgZ"
      },
      "outputs": [],
      "source": [
        "pip install nltk --quiet\n"
      ]
    },
    {
      "cell_type": "code",
      "execution_count": 11,
      "metadata": {
        "id": "NcDbmJP_NOgZ"
      },
      "outputs": [],
      "source": [
        "pip install matplotlib --quiet\n"
      ]
    },
    {
      "cell_type": "code",
      "execution_count": 12,
      "metadata": {
        "id": "a31McfRnNOga"
      },
      "outputs": [],
      "source": [
        "pip install --upgrade ipywidgets --quiet\n"
      ]
    },
    {
      "cell_type": "code",
      "execution_count": 13,
      "metadata": {
        "id": "lSyy7M6oNOga"
      },
      "outputs": [],
      "source": [
        "pip install --upgrade jupyter --quiet\n"
      ]
    },
    {
      "cell_type": "code",
      "execution_count": 14,
      "metadata": {
        "id": "TrBn9EizNOgb"
      },
      "outputs": [],
      "source": [
        "pip install tensorflow --quiet\n"
      ]
    },
    {
      "cell_type": "code",
      "execution_count": 15,
      "metadata": {
        "id": "cH3xzzhnNOgc"
      },
      "outputs": [],
      "source": [
        "pip install torch torchvision torchaudio --quiet"
      ]
    },
    {
      "cell_type": "code",
      "execution_count": 16,
      "metadata": {
        "id": "ky0re-0mNOgc"
      },
      "outputs": [],
      "source": [
        "pip install seaborn --quiet\n"
      ]
    },
    {
      "cell_type": "code",
      "execution_count": 17,
      "metadata": {
        "id": "FYWJXUJlNOgd"
      },
      "outputs": [],
      "source": [
        "pip install wordcloud --quiet\n"
      ]
    },
    {
      "cell_type": "code",
      "execution_count": 18,
      "metadata": {
        "colab": {
          "base_uri": "https://localhost:8080/"
        },
        "id": "AMb1AN4gNOgd",
        "outputId": "6f7bc4fa-0015-4668-daeb-cca003cb8299"
      },
      "outputs": [
        {
          "output_type": "stream",
          "name": "stdout",
          "text": [
            "Requirement already satisfied: openpyxl in /usr/local/lib/python3.11/dist-packages (3.1.5)\n",
            "Requirement already satisfied: et-xmlfile in /usr/local/lib/python3.11/dist-packages (from openpyxl) (2.0.0)\n"
          ]
        }
      ],
      "source": [
        "pip install openpyxl\n"
      ]
    },
    {
      "cell_type": "code",
      "execution_count": 19,
      "metadata": {
        "colab": {
          "base_uri": "https://localhost:8080/"
        },
        "id": "NP4TzEjdNOge",
        "outputId": "9ad3be02-aba2-4f6c-cfee-d33beab24a34"
      },
      "outputs": [
        {
          "output_type": "stream",
          "name": "stdout",
          "text": [
            "Requirement already satisfied: hf_xet in /usr/local/lib/python3.11/dist-packages (1.1.5)\n"
          ]
        }
      ],
      "source": [
        "pip install hf_xet\n"
      ]
    },
    {
      "cell_type": "code",
      "execution_count": 20,
      "metadata": {
        "colab": {
          "base_uri": "https://localhost:8080/"
        },
        "id": "QAEeoSOQh2ND",
        "outputId": "8b832d37-66ad-4fb3-dfc2-7146c03ac85b"
      },
      "outputs": [
        {
          "output_type": "stream",
          "name": "stderr",
          "text": [
            "[nltk_data] Downloading package punkt to /root/nltk_data...\n",
            "[nltk_data]   Package punkt is already up-to-date!\n"
          ]
        },
        {
          "output_type": "execute_result",
          "data": {
            "text/plain": [
              "True"
            ]
          },
          "metadata": {},
          "execution_count": 20
        }
      ],
      "source": [
        "import os\n",
        "import pandas as pd\n",
        "import numpy as np\n",
        "import nltk\n",
        "import tensorflow as tf\n",
        "import torch\n",
        "import seaborn as sns\n",
        "\n",
        "from torch.utils.data import DataLoader\n",
        "from transformers import BertTokenizer, BertForTokenClassification, BertForSequenceClassification\n",
        "from torch.optim import AdamW\n",
        "from datasets import Dataset\n",
        "from wordcloud import WordCloud\n",
        "import matplotlib.pyplot as plt\n",
        "from sklearn.model_selection import train_test_split\n",
        "from sklearn.preprocessing import LabelEncoder\n",
        "from sklearn.metrics import (\n",
        "    accuracy_score, precision_score, recall_score, f1_score,\n",
        "    confusion_matrix, classification_report\n",
        ")\n",
        "from tensorflow.keras.preprocessing.text import Tokenizer\n",
        "from tensorflow.keras.preprocessing.sequence import pad_sequences\n",
        "from tensorflow.keras.callbacks import EarlyStopping, ModelCheckpoint\n",
        "from nltk.tokenize import word_tokenize\n",
        "import seaborn as sns\n",
        "import matplotlib.pyplot as plt\n",
        "#from google.colab import files\n",
        "from keras.layers import Dense, Embedding, SimpleRNN, Dropout\n",
        "from keras.models import load_model, Model\n",
        "from keras.utils import to_categorical\n",
        "from tensorflow.keras.models import Sequential\n",
        "from tensorflow.keras.layers import Input, Embedding, Conv1D,Bidirectional, LSTM, MaxPooling1D, Flatten, Dense\n",
        "from google.colab import files\n",
        "\n",
        "nltk.download('punkt')\n"
      ]
    },
    {
      "cell_type": "markdown",
      "metadata": {
        "id": "xHea8QCcbRmU"
      },
      "source": [
        "**Preprocessing Functions**"
      ]
    },
    {
      "cell_type": "code",
      "execution_count": 21,
      "metadata": {
        "id": "XGcE9h_XJwOY"
      },
      "outputs": [],
      "source": [
        "def remove_stopwords(sentence, stopwords):\n",
        "    if not isinstance(sentence, str):  # Check if the sentence is a string\n",
        "        return \"\"  # Return an empty string if the sentence is not a string\n",
        "    words = sentence.lower().split()\n",
        "    words = [word for word in words if word not in stopwords]\n",
        "    return \" \".join(words)\n",
        "\n",
        "def tokenize(sentence):\n",
        "    return word_tokenize(sentence)\n",
        "\n",
        "def calculate_polarity(polarity_value):\n",
        "    \"\"\"Map the polarity value to a label.\"\"\"\n",
        "    polarity_map = {\n",
        "        1: \"Negative\",\n",
        "        2: \"Neutral\",\n",
        "        3: \"Positive\"\n",
        "    }\n",
        "    return polarity_map.get(polarity_value, \"Unknown\")  # Default to \"Unknown\" if value is not 1, 2, or 3\n",
        "\n",
        "def remove_gender_marker(text):\n",
        "    words = text.split()  # Split the text into words\n",
        "    processed_words = []  # List to store processed words\n",
        "\n",
        "    for word in words:\n",
        "        if len(word) > 3:\n",
        "            last_letter = word[-1]\n",
        "            pre_last_letter = word[-2] if len(word) > 1 else None\n",
        "\n",
        "            if last_letter == 'r':\n",
        "                # Check if second last letter is 'u' or not 'i'\n",
        "                if pre_last_letter == 'u' or pre_last_letter != 'i':\n",
        "                    # Remove the last letter\n",
        "                    processed_words.append(word[:-1])\n",
        "                else:\n",
        "                    processed_words.append(word)  # Keep the word\n",
        "            elif last_letter == 'n':\n",
        "                # Remove the last letter if the last letter is 'n'\n",
        "                processed_words.append(word[:-1])\n",
        "            else:\n",
        "                processed_words.append(word)  # Keep the word\n",
        "        else:\n",
        "            processed_words.append(word)  # Keep the word if its length is <= 3\n",
        "\n",
        "    return \" \".join(processed_words)  # Join the processed words back into a sentence\n",
        "\n",
        "def remove_suffix_prefix(text):\n",
        "    words = text.split()  # Split the text into words\n",
        "    processed_words = []  # List to store processed words\n",
        "\n",
        "    for word in words:\n",
        "        if len(word) > 3:\n",
        "            # Check if the word begins with specific prefixes\n",
        "            if word.startswith(('ba', 'ma', 'mai', 'yan')):\n",
        "                last_two_letters = word[-2:]\n",
        "                last_three_letters = word[-3:]\n",
        "                last_four_letters = word[-4:]\n",
        "\n",
        "                if last_two_letters == 'wa':\n",
        "                    # Remove first two and last two letters\n",
        "                    processed_words.append(word[2:-2])\n",
        "                elif last_three_letters in ('iya', 'uwa', 'kku'):\n",
        "                    # Remove first two and last three letters\n",
        "                    processed_words.append(word[2:-3])\n",
        "                elif last_four_letters == 'anya':\n",
        "                    # Remove first two and last four letters\n",
        "                    processed_words.append(word[2:-4])\n",
        "                else:\n",
        "                    processed_words.append(word)  # Keep the word\n",
        "            else:\n",
        "                processed_words.append(word)  # Keep the word if no matching prefix\n",
        "        else:\n",
        "            processed_words.append(word)  # Keep the word if its length is <= 3\n",
        "\n",
        "    return \" \".join(processed_words)  # Join the processed words back into a sentence\n",
        "\n",
        "def remove_infix(text):\n",
        "    words = text.split()  # Split the text into words\n",
        "    processed_words = []  # List to store processed words\n",
        "\n",
        "    for word in words:\n",
        "        if len(word) > 3:\n",
        "            # Check if the fourth-from-last letter is the same as the second-from-last letter,\n",
        "            # the third-from-last letter is 'o', and the last letter is 'i'\n",
        "            if (word[-4] == word[-2]) and (word[-3] == 'o') and (word[-1] == 'i'):\n",
        "                # Remove the last four letters and add 'a' to the end\n",
        "                processed_words.append(word[:-4] + 'a')\n",
        "            else:\n",
        "                processed_words.append(word)  # Keep the word\n",
        "        else:\n",
        "            processed_words.append(word)  # Keep the word if its length is <= 3\n",
        "\n",
        "    return \" \".join(processed_words)  # Join the processed words back into a sentence\n",
        "\n",
        "def preprocess_sentence(sentence):\n",
        "    # Step 1: Remove stopwords\n",
        "    cleaned_sentence = remove_stopwords(sentence, stopwords)\n",
        "\n",
        "    # Step 2: Apply gender marker removal\n",
        "    cleaned_sentence = remove_gender_marker(cleaned_sentence)\n",
        "\n",
        "    # Step 3: Apply suffix-prefix removal\n",
        "    cleaned_sentence = remove_suffix_prefix(cleaned_sentence)\n",
        "\n",
        "    # Step 4: Apply infix removal\n",
        "    cleaned_sentence = remove_infix(cleaned_sentence)\n",
        "\n",
        "    return cleaned_sentence\n"
      ]
    },
    {
      "cell_type": "markdown",
      "metadata": {
        "id": "T4Q12Xesbpbl"
      },
      "source": [
        "**Create Folders**"
      ]
    },
    {
      "cell_type": "code",
      "execution_count": 19,
      "metadata": {
        "colab": {
          "base_uri": "https://localhost:8080/"
        },
        "id": "P1qoxLzHnhuo",
        "outputId": "b351a7c4-e80d-4deb-d58a-79bf47ea5ce1"
      },
      "outputs": [
        {
          "output_type": "stream",
          "name": "stdout",
          "text": [
            "Folder 'hesac_dataset' created successfully.\n",
            "Folder 'stopwords' created successfully.\n"
          ]
        }
      ],
      "source": [
        "ds = \"hesac_dataset\"\n",
        "os.makedirs(ds, exist_ok=True)\n",
        "print(f\"Folder '{ds}' created successfully.\")\n",
        "\n",
        "sw = \"stopwords\"\n",
        "os.makedirs(sw, exist_ok=True)\n",
        "print(f\"Folder '{sw}' created successfully.\")"
      ]
    },
    {
      "cell_type": "markdown",
      "metadata": {
        "id": "agVgAEPDbvp1"
      },
      "source": [
        "**Upload Files**"
      ]
    },
    {
      "cell_type": "code",
      "execution_count": 43,
      "metadata": {
        "colab": {
          "base_uri": "https://localhost:8080/",
          "height": 38
        },
        "id": "sk1Q-4KznmBn",
        "outputId": "835ec171-8475-48f4-f510-4613dd84ba58"
      },
      "outputs": [
        {
          "output_type": "display_data",
          "data": {
            "text/plain": [
              "<IPython.core.display.HTML object>"
            ],
            "text/html": [
              "\n",
              "     <input type=\"file\" id=\"files-cdfb1817-cb12-4035-8494-611d7d1df9eb\" name=\"files[]\" multiple disabled\n",
              "        style=\"border:none\" />\n",
              "     <output id=\"result-cdfb1817-cb12-4035-8494-611d7d1df9eb\">\n",
              "      Upload widget is only available when the cell has been executed in the\n",
              "      current browser session. Please rerun this cell to enable.\n",
              "      </output>\n",
              "      <script>// Copyright 2017 Google LLC\n",
              "//\n",
              "// Licensed under the Apache License, Version 2.0 (the \"License\");\n",
              "// you may not use this file except in compliance with the License.\n",
              "// You may obtain a copy of the License at\n",
              "//\n",
              "//      http://www.apache.org/licenses/LICENSE-2.0\n",
              "//\n",
              "// Unless required by applicable law or agreed to in writing, software\n",
              "// distributed under the License is distributed on an \"AS IS\" BASIS,\n",
              "// WITHOUT WARRANTIES OR CONDITIONS OF ANY KIND, either express or implied.\n",
              "// See the License for the specific language governing permissions and\n",
              "// limitations under the License.\n",
              "\n",
              "/**\n",
              " * @fileoverview Helpers for google.colab Python module.\n",
              " */\n",
              "(function(scope) {\n",
              "function span(text, styleAttributes = {}) {\n",
              "  const element = document.createElement('span');\n",
              "  element.textContent = text;\n",
              "  for (const key of Object.keys(styleAttributes)) {\n",
              "    element.style[key] = styleAttributes[key];\n",
              "  }\n",
              "  return element;\n",
              "}\n",
              "\n",
              "// Max number of bytes which will be uploaded at a time.\n",
              "const MAX_PAYLOAD_SIZE = 100 * 1024;\n",
              "\n",
              "function _uploadFiles(inputId, outputId) {\n",
              "  const steps = uploadFilesStep(inputId, outputId);\n",
              "  const outputElement = document.getElementById(outputId);\n",
              "  // Cache steps on the outputElement to make it available for the next call\n",
              "  // to uploadFilesContinue from Python.\n",
              "  outputElement.steps = steps;\n",
              "\n",
              "  return _uploadFilesContinue(outputId);\n",
              "}\n",
              "\n",
              "// This is roughly an async generator (not supported in the browser yet),\n",
              "// where there are multiple asynchronous steps and the Python side is going\n",
              "// to poll for completion of each step.\n",
              "// This uses a Promise to block the python side on completion of each step,\n",
              "// then passes the result of the previous step as the input to the next step.\n",
              "function _uploadFilesContinue(outputId) {\n",
              "  const outputElement = document.getElementById(outputId);\n",
              "  const steps = outputElement.steps;\n",
              "\n",
              "  const next = steps.next(outputElement.lastPromiseValue);\n",
              "  return Promise.resolve(next.value.promise).then((value) => {\n",
              "    // Cache the last promise value to make it available to the next\n",
              "    // step of the generator.\n",
              "    outputElement.lastPromiseValue = value;\n",
              "    return next.value.response;\n",
              "  });\n",
              "}\n",
              "\n",
              "/**\n",
              " * Generator function which is called between each async step of the upload\n",
              " * process.\n",
              " * @param {string} inputId Element ID of the input file picker element.\n",
              " * @param {string} outputId Element ID of the output display.\n",
              " * @return {!Iterable<!Object>} Iterable of next steps.\n",
              " */\n",
              "function* uploadFilesStep(inputId, outputId) {\n",
              "  const inputElement = document.getElementById(inputId);\n",
              "  inputElement.disabled = false;\n",
              "\n",
              "  const outputElement = document.getElementById(outputId);\n",
              "  outputElement.innerHTML = '';\n",
              "\n",
              "  const pickedPromise = new Promise((resolve) => {\n",
              "    inputElement.addEventListener('change', (e) => {\n",
              "      resolve(e.target.files);\n",
              "    });\n",
              "  });\n",
              "\n",
              "  const cancel = document.createElement('button');\n",
              "  inputElement.parentElement.appendChild(cancel);\n",
              "  cancel.textContent = 'Cancel upload';\n",
              "  const cancelPromise = new Promise((resolve) => {\n",
              "    cancel.onclick = () => {\n",
              "      resolve(null);\n",
              "    };\n",
              "  });\n",
              "\n",
              "  // Wait for the user to pick the files.\n",
              "  const files = yield {\n",
              "    promise: Promise.race([pickedPromise, cancelPromise]),\n",
              "    response: {\n",
              "      action: 'starting',\n",
              "    }\n",
              "  };\n",
              "\n",
              "  cancel.remove();\n",
              "\n",
              "  // Disable the input element since further picks are not allowed.\n",
              "  inputElement.disabled = true;\n",
              "\n",
              "  if (!files) {\n",
              "    return {\n",
              "      response: {\n",
              "        action: 'complete',\n",
              "      }\n",
              "    };\n",
              "  }\n",
              "\n",
              "  for (const file of files) {\n",
              "    const li = document.createElement('li');\n",
              "    li.append(span(file.name, {fontWeight: 'bold'}));\n",
              "    li.append(span(\n",
              "        `(${file.type || 'n/a'}) - ${file.size} bytes, ` +\n",
              "        `last modified: ${\n",
              "            file.lastModifiedDate ? file.lastModifiedDate.toLocaleDateString() :\n",
              "                                    'n/a'} - `));\n",
              "    const percent = span('0% done');\n",
              "    li.appendChild(percent);\n",
              "\n",
              "    outputElement.appendChild(li);\n",
              "\n",
              "    const fileDataPromise = new Promise((resolve) => {\n",
              "      const reader = new FileReader();\n",
              "      reader.onload = (e) => {\n",
              "        resolve(e.target.result);\n",
              "      };\n",
              "      reader.readAsArrayBuffer(file);\n",
              "    });\n",
              "    // Wait for the data to be ready.\n",
              "    let fileData = yield {\n",
              "      promise: fileDataPromise,\n",
              "      response: {\n",
              "        action: 'continue',\n",
              "      }\n",
              "    };\n",
              "\n",
              "    // Use a chunked sending to avoid message size limits. See b/62115660.\n",
              "    let position = 0;\n",
              "    do {\n",
              "      const length = Math.min(fileData.byteLength - position, MAX_PAYLOAD_SIZE);\n",
              "      const chunk = new Uint8Array(fileData, position, length);\n",
              "      position += length;\n",
              "\n",
              "      const base64 = btoa(String.fromCharCode.apply(null, chunk));\n",
              "      yield {\n",
              "        response: {\n",
              "          action: 'append',\n",
              "          file: file.name,\n",
              "          data: base64,\n",
              "        },\n",
              "      };\n",
              "\n",
              "      let percentDone = fileData.byteLength === 0 ?\n",
              "          100 :\n",
              "          Math.round((position / fileData.byteLength) * 100);\n",
              "      percent.textContent = `${percentDone}% done`;\n",
              "\n",
              "    } while (position < fileData.byteLength);\n",
              "  }\n",
              "\n",
              "  // All done.\n",
              "  yield {\n",
              "    response: {\n",
              "      action: 'complete',\n",
              "    }\n",
              "  };\n",
              "}\n",
              "\n",
              "scope.google = scope.google || {};\n",
              "scope.google.colab = scope.google.colab || {};\n",
              "scope.google.colab._files = {\n",
              "  _uploadFiles,\n",
              "  _uploadFilesContinue,\n",
              "};\n",
              "})(self);\n",
              "</script> "
            ]
          },
          "metadata": {}
        }
      ],
      "source": [
        "uploaded = files.upload()"
      ]
    },
    {
      "cell_type": "markdown",
      "metadata": {
        "id": "RwL3OUUbbi8n"
      },
      "source": [
        "**Loading the Dataset**"
      ]
    },
    {
      "cell_type": "code",
      "execution_count": 22,
      "metadata": {
        "id": "TzAe8mivm_DN",
        "colab": {
          "base_uri": "https://localhost:8080/"
        },
        "outputId": "dbd9d5d8-d842-4022-9827-c75036e95ddc"
      },
      "outputs": [
        {
          "output_type": "stream",
          "name": "stderr",
          "text": [
            "/usr/local/lib/python3.11/dist-packages/openpyxl/worksheet/_reader.py:329: UserWarning: Data Validation extension is not supported and will be removed\n",
            "  warn(msg)\n"
          ]
        }
      ],
      "source": [
        "# Load dataset\n",
        "df = pd.read_excel('./hesac_dataset/hesac.xlsx')\n",
        "\n",
        "with open(\"./stopwords/StopWords-HA.txt\", \"r\") as file:\n",
        "    stopwords = file.read().splitlines()\n"
      ]
    },
    {
      "cell_type": "code",
      "execution_count": 23,
      "metadata": {
        "colab": {
          "base_uri": "https://localhost:8080/"
        },
        "id": "X3Xpy9eAKA_Z",
        "outputId": "0f123f90-9905-4f93-f386-c29f18267297"
      },
      "outputs": [
        {
          "output_type": "stream",
          "name": "stdout",
          "text": [
            "Total number of stopwords: 150\n",
            "Total number of sentences in the dataset: 10000\n"
          ]
        }
      ],
      "source": [
        "# Calculate the total number of sentences in the dataset\n",
        "total_stopWords = len(stopwords)\n",
        "total_sentences = len(df)\n",
        "\n",
        "# Print the total number of sentences in each dataset\n",
        "print(f\"Total number of stopwords: {total_stopWords}\")\n",
        "print(f\"Total number of sentences in the dataset: {total_sentences}\")"
      ]
    },
    {
      "cell_type": "code",
      "execution_count": 26,
      "metadata": {
        "colab": {
          "base_uri": "https://localhost:8080/",
          "height": 521
        },
        "id": "3Q49qhj0ZXzt",
        "outputId": "ff3c19a4-0fd0-46bf-97a7-7e41b3a6832e"
      },
      "outputs": [
        {
          "output_type": "display_data",
          "data": {
            "text/plain": [
              "<Figure size 800x600 with 1 Axes>"
            ],
            "image/png": "[encoded data removed]"
          },
          "metadata": {}
        }
      ],
      "source": [
        "polarity_counts = df['Polarity'].value_counts()\n",
        "\n",
        "plt.figure(figsize=(8, 6))\n",
        "plt.pie(polarity_counts, labels=polarity_counts.index, autopct='%1.1f%%', startangle=90)\n",
        "_ = plt.title('Distribution of Sentiment Polarity')"
      ]
    },
    {
      "cell_type": "code",
      "execution_count": 25,
      "metadata": {
        "colab": {
          "base_uri": "https://localhost:8080/"
        },
        "id": "DTG5oZ0TNOgg",
        "outputId": "91def21a-bda1-4722-ba05-fe5c8f32f631"
      },
      "outputs": [
        {
          "output_type": "stream",
          "name": "stdout",
          "text": [
            "Aspect Category counts:\n",
            "Aspect Category\n",
            "course content                       3810\n",
            "lecturer behavior                    2613\n",
            "teaching quality                     1655\n",
            "teaching performance                 1216\n",
            "course content                        349\n",
            "course difficulty                     324\n",
            "course content,  teaching quality       8\n",
            "course  content                         7\n",
            " course content                         4\n",
            " teaching quality                       3\n",
            "course quality                          3\n",
            "lecturer behaviour                      3\n",
            "teaching quality                        2\n",
            "teaching perfromance                    2\n",
            " teaching performance                   1\n",
            "Name: count, dtype: int64\n",
            "\n",
            "Polarity counts:\n",
            "Polarity\n",
            "3    7815\n",
            "1    1463\n",
            "2     722\n",
            "Name: count, dtype: int64\n"
          ]
        }
      ],
      "source": [
        "# Count occurrences of each aspect category\n",
        "aspect_counts = df['Aspect Category'].value_counts()\n",
        "print(\"Aspect Category counts:\")\n",
        "print(aspect_counts)\n",
        "\n",
        "# Count occurrences of each polarity\n",
        "polarity_counts = df['Polarity'].value_counts()\n",
        "print(\"\\nPolarity counts:\")\n",
        "print(polarity_counts)\n"
      ]
    },
    {
      "cell_type": "code",
      "source": [
        "# Mapping of incorrect or similar labels to standardized ones\n",
        "aspect_correction = {\n",
        "    \"course content\": \"course content\",\n",
        "    \"course  content\": \"course content\",\n",
        "    \" course content\": \"course content\",\n",
        "    \"course content,  teaching quality\": \"course content\",\n",
        "    \"course difficulty\": \"course difficulty\",\n",
        "    \"teaching quality\": \"teaching quality\",\n",
        "    \" teaching quality\": \"teaching quality\",\n",
        "    \"teaching perfromance\": \"teaching performance\",\n",
        "    \" teaching performance\": \"teaching performance\",\n",
        "    \"teaching performance\": \"teaching performance\",\n",
        "    \"lecturer behavior\": \"lecturer behavior\",\n",
        "    \"lecturer behaviour\": \"lecturer behavior\",\n",
        "    \"course quality\": \"course content\"  # assuming it's similar\n",
        "}\n"
      ],
      "metadata": {
        "id": "_kL5lRigkTZr"
      },
      "execution_count": 27,
      "outputs": []
    },
    {
      "cell_type": "code",
      "source": [
        "df['Aspect Category'] = df['Aspect Category'].map(aspect_correction).fillna(df['Aspect Category'])\n",
        "df['Aspect Category'] = df['Aspect Category'].str.strip().str.lower()\n"
      ],
      "metadata": {
        "id": "7MHCFd89kXQK"
      },
      "execution_count": 28,
      "outputs": []
    },
    {
      "cell_type": "code",
      "source": [
        "# Count occurrences of each aspect category\n",
        "aspect_counts = df['Aspect Category'].value_counts()\n",
        "print(\"Aspect Category counts:\")\n",
        "print(aspect_counts)\n",
        "\n",
        "# Count occurrences of each polarity\n",
        "polarity_counts = df['Polarity'].value_counts()\n",
        "print(\"\\nPolarity counts:\")\n",
        "print(polarity_counts)\n"
      ],
      "metadata": {
        "colab": {
          "base_uri": "https://localhost:8080/"
        },
        "id": "QezKlPdSkcEr",
        "outputId": "58c82c7e-8826-433e-9b3a-cbe5e252a6cd"
      },
      "execution_count": 29,
      "outputs": [
        {
          "output_type": "stream",
          "name": "stdout",
          "text": [
            "Aspect Category counts:\n",
            "Aspect Category\n",
            "course content          4181\n",
            "lecturer behavior       2616\n",
            "teaching quality        1660\n",
            "teaching performance    1219\n",
            "course difficulty        324\n",
            "Name: count, dtype: int64\n",
            "\n",
            "Polarity counts:\n",
            "Polarity\n",
            "3    7815\n",
            "1    1463\n",
            "2     722\n",
            "Name: count, dtype: int64\n"
          ]
        }
      ]
    },
    {
      "cell_type": "code",
      "execution_count": 30,
      "metadata": {
        "colab": {
          "base_uri": "https://localhost:8080/",
          "height": 669
        },
        "id": "54WjzSTdZzgy",
        "outputId": "e17357f5-22c7-43a9-804e-a2290ceac29b"
      },
      "outputs": [
        {
          "output_type": "display_data",
          "data": {
            "text/plain": [
              "<Figure size 1000x600 with 1 Axes>"
            ],
            "image/png": "[encoded data removed]"
          },
          "metadata": {}
        }
      ],
      "source": [
        "plt.figure(figsize=(10, 6))\n",
        "sns.countplot(x='Aspect Category', hue='Polarity', data=df)\n",
        "plt.title('Sentiment Polarity by Aspect')\n",
        "plt.xlabel('Aspect')\n",
        "plt.ylabel('Count')\n",
        "plt.xticks(rotation=45, ha='right')\n",
        "plt.show()\n"
      ]
    },
    {
      "cell_type": "markdown",
      "metadata": {
        "id": "dE2yQgL9b3bV"
      },
      "source": [
        "**Preprocessing Data**"
      ]
    },
    {
      "cell_type": "code",
      "execution_count": 31,
      "metadata": {
        "id": "id0J0nZkL-hR"
      },
      "outputs": [],
      "source": [
        "# Normalize 'Aspect_words' column\n",
        "if 'Aspect Category' in df.columns:\n",
        "    df['Aspect Category'] = (\n",
        "        df['Aspect Category']\n",
        "        .str.strip()  # Remove leading and trailing spaces\n",
        "        .str.lower()  # Convert to lowercase\n",
        "        .str.replace(r'[^\\w\\s]', '', regex=True)  # Remove punctuation\n",
        "        .str.replace(r'\\s+', ' ', regex=True)  # Replace multiple spaces with a single space\n",
        "    )\n",
        "\n",
        "# Remove trailing periods and extra spaces in all columns\n",
        "df = df.map(\n",
        "    lambda x: x.strip().rstrip('.') if isinstance(x, str) else x\n",
        ")\n",
        "\n",
        "# Normalize 'Comment' column\n",
        "if 'Hausa' in df.columns:\n",
        "    df['Hausa'] = (\n",
        "        df['Hausa']\n",
        "        .str.strip()  # Remove leading and trailing spaces\n",
        "        .str.lower()  # Convert to lowercase\n",
        "        .str.replace(r'[^\\w\\s]', '', regex=True)  # Remove punctuation\n",
        "        .str.replace(r'\\s+', ' ', regex=True)  # Replace multiple spaces with a single space\n",
        "    )\n",
        "data = []\n",
        "for _, row in df.iterrows():\n",
        "    sentence = row['Hausa']\n",
        "    polarity_value = row['Polarity']\n",
        "    aspect_category = row['Aspect Category']\n",
        "\n",
        "    # Apply all preprocessing steps here\n",
        "    cleaned_sentence = preprocess_sentence(sentence)\n",
        "\n",
        "    polarity_label = calculate_polarity(polarity_value)\n",
        "    data.append({\n",
        "        'sentence': sentence,\n",
        "        'cleaned_sentence': cleaned_sentence,\n",
        "        'aspect_category': aspect_category,\n",
        "        'polarity': polarity_label\n",
        "    })\n",
        "\n",
        "processed_df = pd.DataFrame(data)"
      ]
    },
    {
      "cell_type": "code",
      "execution_count": 32,
      "metadata": {
        "colab": {
          "base_uri": "https://localhost:8080/",
          "height": 430
        },
        "id": "us2rxdvtf99X",
        "outputId": "e3e4dc17-cca7-471c-a883-8b14c6a5d57a"
      },
      "outputs": [
        {
          "output_type": "display_data",
          "data": {
            "text/plain": [
              "<Figure size 640x480 with 1 Axes>"
            ],
            "image/png": "[encoded data removed]"
          },
          "metadata": {}
        }
      ],
      "source": [
        "df.groupby('Aspect Category').size().plot(kind='barh', color=sns.palettes.mpl_palette('Dark2'))\n",
        "plt.gca().spines[['top', 'right',]].set_visible(False)"
      ]
    },
    {
      "cell_type": "markdown",
      "metadata": {
        "id": "ZiTDQBnGb-h5"
      },
      "source": [
        "**Extracting Columns and Encoding**"
      ]
    },
    {
      "cell_type": "code",
      "execution_count": 33,
      "metadata": {
        "id": "dPQQYlLjotGK"
      },
      "outputs": [],
      "source": [
        "hausa_text = processed_df['cleaned_sentence']\n",
        "aspect_category = df['Aspect Category']\n",
        "polarity = df['Polarity']\n",
        "\n",
        "# Encode the aspect category and polarity columns\n",
        "aspect_encoder = LabelEncoder()\n",
        "polarity_encoder = LabelEncoder()\n",
        "\n",
        "aspect_labels = aspect_encoder.fit_transform(aspect_category)\n",
        "polarity_labels = polarity_encoder.fit_transform(polarity)"
      ]
    },
    {
      "cell_type": "markdown",
      "metadata": {
        "id": "U23POt58cS2J"
      },
      "source": [
        "**Splitting the Dataset**"
      ]
    },
    {
      "cell_type": "code",
      "execution_count": 34,
      "metadata": {
        "id": "3EjoUGUrri7C"
      },
      "outputs": [],
      "source": [
        "x_train, x_test, y_train_aspect_raw, y_test_aspect_raw = train_test_split(\n",
        "    hausa_text,\n",
        "    aspect_labels,\n",
        "    test_size=0.2,\n",
        "    random_state=42\n",
        ")\n",
        "\n",
        "_, _, y_train_polarity_raw, y_test_polarity_raw = train_test_split(\n",
        "    hausa_text,\n",
        "    polarity_labels,\n",
        "    test_size=0.2,\n",
        "    random_state=42\n",
        ")"
      ]
    },
    {
      "cell_type": "markdown",
      "metadata": {
        "id": "L5OqDEbTc3V0"
      },
      "source": [
        "**Tokenization and Padding**"
      ]
    },
    {
      "cell_type": "code",
      "execution_count": 35,
      "metadata": {
        "id": "wv2acW30NNTK"
      },
      "outputs": [],
      "source": [
        "# Tokenizer parameters\n",
        "max_words = 2000\n",
        "max_sequence_length = 100\n",
        "\n",
        "# Initialize and fit tokenizer on training text\n",
        "tokenizer = Tokenizer(num_words=max_words)\n",
        "tokenizer.fit_on_texts(x_train)\n",
        "\n",
        "# Convert text to sequences\n",
        "x_train_seq = tokenizer.texts_to_sequences(x_train)\n",
        "x_test_seq = tokenizer.texts_to_sequences(x_test)\n",
        "\n",
        "# Pad sequences to the same length\n",
        "x_train_padded = pad_sequences(x_train_seq, maxlen=max_sequence_length)\n",
        "x_test_padded = pad_sequences(x_test_seq, maxlen=max_sequence_length)"
      ]
    },
    {
      "cell_type": "markdown",
      "metadata": {
        "id": "DvEGLFIHc_Ht"
      },
      "source": [
        "**One-Hot Encoding of Labels**"
      ]
    },
    {
      "cell_type": "code",
      "execution_count": 36,
      "metadata": {
        "id": "uBleAGZ5sSSA"
      },
      "outputs": [],
      "source": [
        "# Determine the number of unique classes\n",
        "num_aspect_classes = len(set(y_train_aspect_raw))\n",
        "num_polarity_classes = len(set(y_train_polarity_raw))\n",
        "\n",
        "# One-hot encode the labels\n",
        "y_train_aspect = to_categorical(y_train_aspect_raw, num_classes=num_aspect_classes)\n",
        "y_test_aspect = to_categorical(y_test_aspect_raw, num_classes=num_aspect_classes)\n",
        "\n",
        "y_train_polarity = to_categorical(y_train_polarity_raw, num_classes=num_polarity_classes)\n",
        "y_test_polarity = to_categorical(y_test_polarity_raw, num_classes=num_polarity_classes)\n"
      ]
    },
    {
      "cell_type": "markdown",
      "metadata": {
        "id": "IC0Ku9BMdHJo"
      },
      "source": [
        "**Defining the BiLSTM Model**"
      ]
    },
    {
      "cell_type": "code",
      "execution_count": 37,
      "metadata": {
        "id": "kSDhxmw9wFCn"
      },
      "outputs": [],
      "source": [
        "def BiLSTM(max_sequence_length, max_words, embedding_dim, num_aspect_classes, num_polarity_classes):\n",
        "    input_layer = Input(shape=(max_sequence_length,))\n",
        "    embedding_layer = Embedding(input_dim=max_words,\n",
        "                                 output_dim=embedding_dim)(input_layer)\n",
        "    bilstm_layer_1 = Bidirectional(LSTM(128, return_sequences=True))(embedding_layer)\n",
        "    dropout_layer_1 = Dropout(0.3)(bilstm_layer_1)\n",
        "\n",
        "    bilstm_layer_2 = Bidirectional(LSTM(64))(dropout_layer_1)\n",
        "    dropout_layer_2 = Dropout(0.3)(bilstm_layer_2)\n",
        "\n",
        "    aspect_output = Dense(num_aspect_classes, activation='softmax', name='aspect_output')(dropout_layer_2)\n",
        "    polarity_output = Dense(num_polarity_classes, activation='softmax', name='polarity_output')(dropout_layer_2)\n",
        "\n",
        "    # Create model\n",
        "    model = Model(inputs=input_layer, outputs=[aspect_output, polarity_output])\n",
        "\n",
        "    model.compile(\n",
        "        optimizer='adam',\n",
        "        loss={\n",
        "            'aspect_output': 'categorical_crossentropy',\n",
        "            'polarity_output': 'categorical_crossentropy'\n",
        "        },\n",
        "        metrics={\n",
        "            'aspect_output': 'accuracy',\n",
        "            'polarity_output': 'accuracy'\n",
        "        }\n",
        "    )\n",
        "\n",
        "    # Define callbacks\n",
        "    callbacks = [\n",
        "        EarlyStopping(monitor='val_loss', patience=5),\n",
        "        ModelCheckpoint('best_model.keras', save_best_only=True, monitor='val_loss', mode='min')\n",
        "    ]\n",
        "\n",
        "    return model, callbacks"
      ]
    },
    {
      "cell_type": "markdown",
      "metadata": {
        "id": "y3aM6vsedQeJ"
      },
      "source": [
        "**Training**"
      ]
    },
    {
      "cell_type": "code",
      "execution_count": 64,
      "metadata": {
        "colab": {
          "base_uri": "https://localhost:8080/"
        },
        "id": "PBAPZNmhwbA7",
        "outputId": "e35827cc-1134-49ac-ab5b-e5e68cef93e0"
      },
      "outputs": [
        {
          "output_type": "stream",
          "name": "stdout",
          "text": [
            "Epoch 1/15\n",
            "\u001b[1m100/100\u001b[0m \u001b[32m━━━━━━━━━━━━━━━━━━━━\u001b[0m\u001b[37m\u001b[0m \u001b[1m102s\u001b[0m 942ms/step - aspect_output_accuracy: 0.4174 - aspect_output_loss: 1.3815 - loss: 2.0822 - polarity_output_accuracy: 0.7597 - polarity_output_loss: 0.7007 - val_aspect_output_accuracy: 0.5919 - val_aspect_output_loss: 1.0223 - val_loss: 1.5143 - val_polarity_output_accuracy: 0.8163 - val_polarity_output_loss: 0.4921\n",
            "Epoch 2/15\n",
            "\u001b[1m100/100\u001b[0m \u001b[32m━━━━━━━━━━━━━━━━━━━━\u001b[0m\u001b[37m\u001b[0m \u001b[1m139s\u001b[0m 917ms/step - aspect_output_accuracy: 0.6064 - aspect_output_loss: 0.9997 - loss: 1.4809 - polarity_output_accuracy: 0.8280 - polarity_output_loss: 0.4812 - val_aspect_output_accuracy: 0.6450 - val_aspect_output_loss: 0.9172 - val_loss: 1.3370 - val_polarity_output_accuracy: 0.8419 - val_polarity_output_loss: 0.4198\n",
            "Epoch 3/15\n",
            "\u001b[1m100/100\u001b[0m \u001b[32m━━━━━━━━━━━━━━━━━━━━\u001b[0m\u001b[37m\u001b[0m \u001b[1m142s\u001b[0m 913ms/step - aspect_output_accuracy: 0.6777 - aspect_output_loss: 0.8454 - loss: 1.2401 - polarity_output_accuracy: 0.8637 - polarity_output_loss: 0.3947 - val_aspect_output_accuracy: 0.6538 - val_aspect_output_loss: 0.8871 - val_loss: 1.2967 - val_polarity_output_accuracy: 0.8512 - val_polarity_output_loss: 0.4097\n",
            "Epoch 4/15\n",
            "\u001b[1m100/100\u001b[0m \u001b[32m━━━━━━━━━━━━━━━━━━━━\u001b[0m\u001b[37m\u001b[0m \u001b[1m142s\u001b[0m 915ms/step - aspect_output_accuracy: 0.7043 - aspect_output_loss: 0.7819 - loss: 1.1381 - polarity_output_accuracy: 0.8759 - polarity_output_loss: 0.3563 - val_aspect_output_accuracy: 0.6494 - val_aspect_output_loss: 0.9021 - val_loss: 1.3044 - val_polarity_output_accuracy: 0.8544 - val_polarity_output_loss: 0.4023\n",
            "Epoch 5/15\n",
            "\u001b[1m100/100\u001b[0m \u001b[32m━━━━━━━━━━━━━━━━━━━━\u001b[0m\u001b[37m\u001b[0m \u001b[1m138s\u001b[0m 870ms/step - aspect_output_accuracy: 0.7173 - aspect_output_loss: 0.7334 - loss: 1.0447 - polarity_output_accuracy: 0.8984 - polarity_output_loss: 0.3113 - val_aspect_output_accuracy: 0.6756 - val_aspect_output_loss: 0.8749 - val_loss: 1.2686 - val_polarity_output_accuracy: 0.8631 - val_polarity_output_loss: 0.3937\n",
            "Epoch 6/15\n",
            "\u001b[1m100/100\u001b[0m \u001b[32m━━━━━━━━━━━━━━━━━━━━\u001b[0m\u001b[37m\u001b[0m \u001b[1m147s\u001b[0m 920ms/step - aspect_output_accuracy: 0.7455 - aspect_output_loss: 0.6951 - loss: 0.9908 - polarity_output_accuracy: 0.9044 - polarity_output_loss: 0.2957 - val_aspect_output_accuracy: 0.6844 - val_aspect_output_loss: 0.8813 - val_loss: 1.2826 - val_polarity_output_accuracy: 0.8637 - val_polarity_output_loss: 0.4013\n",
            "Epoch 7/15\n",
            "\u001b[1m100/100\u001b[0m \u001b[32m━━━━━━━━━━━━━━━━━━━━\u001b[0m\u001b[37m\u001b[0m \u001b[1m142s\u001b[0m 923ms/step - aspect_output_accuracy: 0.7632 - aspect_output_loss: 0.6558 - loss: 0.9137 - polarity_output_accuracy: 0.9110 - polarity_output_loss: 0.2579 - val_aspect_output_accuracy: 0.6631 - val_aspect_output_loss: 0.9010 - val_loss: 1.3109 - val_polarity_output_accuracy: 0.8669 - val_polarity_output_loss: 0.4099\n",
            "Epoch 8/15\n",
            "\u001b[1m100/100\u001b[0m \u001b[32m━━━━━━━━━━━━━━━━━━━━\u001b[0m\u001b[37m\u001b[0m \u001b[1m141s\u001b[0m 911ms/step - aspect_output_accuracy: 0.7624 - aspect_output_loss: 0.6348 - loss: 0.8867 - polarity_output_accuracy: 0.9172 - polarity_output_loss: 0.2519 - val_aspect_output_accuracy: 0.6819 - val_aspect_output_loss: 0.9079 - val_loss: 1.3239 - val_polarity_output_accuracy: 0.8600 - val_polarity_output_loss: 0.4160\n",
            "Epoch 9/15\n",
            "\u001b[1m100/100\u001b[0m \u001b[32m━━━━━━━━━━━━━━━━━━━━\u001b[0m\u001b[37m\u001b[0m \u001b[1m142s\u001b[0m 912ms/step - aspect_output_accuracy: 0.7755 - aspect_output_loss: 0.5970 - loss: 0.8571 - polarity_output_accuracy: 0.9159 - polarity_output_loss: 0.2601 - val_aspect_output_accuracy: 0.6700 - val_aspect_output_loss: 0.9313 - val_loss: 1.3535 - val_polarity_output_accuracy: 0.8625 - val_polarity_output_loss: 0.4222\n",
            "Epoch 10/15\n",
            "\u001b[1m100/100\u001b[0m \u001b[32m━━━━━━━━━━━━━━━━━━━━\u001b[0m\u001b[37m\u001b[0m \u001b[1m142s\u001b[0m 915ms/step - aspect_output_accuracy: 0.7794 - aspect_output_loss: 0.5758 - loss: 0.8069 - polarity_output_accuracy: 0.9259 - polarity_output_loss: 0.2311 - val_aspect_output_accuracy: 0.6787 - val_aspect_output_loss: 0.9270 - val_loss: 1.3854 - val_polarity_output_accuracy: 0.8644 - val_polarity_output_loss: 0.4584\n"
          ]
        }
      ],
      "source": [
        "# Define parameters for the model\n",
        "max_sequence_length = 100\n",
        "max_words = 10000\n",
        "embedding_dim = 300\n",
        "num_aspect_classes = 5\n",
        "num_polarity_classes = 3\n",
        "\n",
        "# Create the model and callbacks\n",
        "model, callbacks = BiLSTM(max_sequence_length, max_words, embedding_dim, num_aspect_classes, num_polarity_classes)\n",
        "\n",
        "# Train the model with validation split\n",
        "history = model.fit(\n",
        "    x_train_padded,\n",
        "    {'aspect_output': y_train_aspect,\n",
        "     'polarity_output': y_train_polarity},\n",
        "    validation_split=0.2,\n",
        "    epochs=15,\n",
        "    batch_size=64,\n",
        "    callbacks=callbacks,\n",
        "    verbose=1\n",
        ")"
      ]
    },
    {
      "cell_type": "markdown",
      "metadata": {
        "id": "rfb7TwkldVaX"
      },
      "source": [
        "**Evaluation**"
      ]
    },
    {
      "cell_type": "code",
      "execution_count": 65,
      "metadata": {
        "colab": {
          "base_uri": "https://localhost:8080/"
        },
        "id": "ISavY6IbsyKf",
        "outputId": "59edc12c-9b3f-40c9-9735-d9c955564877"
      },
      "outputs": [
        {
          "output_type": "stream",
          "name": "stdout",
          "text": [
            "\u001b[1m63/63\u001b[0m \u001b[32m━━━━━━━━━━━━━━━━━━━━\u001b[0m\u001b[37m\u001b[0m \u001b[1m15s\u001b[0m 230ms/step - aspect_output_accuracy: 0.6785 - aspect_output_loss: 0.9287 - loss: 1.4420 - polarity_output_accuracy: 0.8526 - polarity_output_loss: 0.5133\n",
            "Evaluation results: [1.4449087381362915, 0.9444423317909241, 0.49805349111557007, 0.6669999957084656, 0.8600000143051147]\n"
          ]
        }
      ],
      "source": [
        "# Evaluate the model and print metrics\n",
        "results = model.evaluate(\n",
        "    x_test_padded,\n",
        "    {'aspect_output': y_test_aspect, 'polarity_output': y_test_polarity},\n",
        "    verbose=1\n",
        ")\n",
        "\n",
        "print(f\"Evaluation results: {results}\")"
      ]
    },
    {
      "cell_type": "markdown",
      "source": [
        "**Performance Evaluation for Aspect and Polarity Predictions**"
      ],
      "metadata": {
        "id": "Eo-_QtrJvSKF"
      }
    },
    {
      "cell_type": "code",
      "execution_count": 66,
      "metadata": {
        "colab": {
          "base_uri": "https://localhost:8080/"
        },
        "id": "fGPqisT40B1Z",
        "outputId": "d0166777-d7fe-4178-c4a5-2dfb73578320"
      },
      "outputs": [
        {
          "output_type": "stream",
          "name": "stdout",
          "text": [
            "\u001b[1m63/63\u001b[0m \u001b[32m━━━━━━━━━━━━━━━━━━━━\u001b[0m\u001b[37m\u001b[0m \u001b[1m13s\u001b[0m 204ms/step\n",
            "\n",
            "Aspect metrics:\n",
            "Accuracy: 0.667\n",
            "Precision: 0.6569314671264744\n",
            "Recall: 0.667\n",
            "F1 Score: 0.6546974045429967\n",
            "\n",
            "Polarity metrics:\n",
            "Accuracy: 0.86\n",
            "Precision: 0.8498067373210982\n",
            "Recall: 0.86\n",
            "F1 Score: 0.8526344527488127\n"
          ]
        }
      ],
      "source": [
        "# Get predictions for calculating precision, recall, f1, etc.\n",
        "y_pred_aspect, y_pred_polarity = model.predict(x_test_padded)\n",
        "\n",
        "# Convert predictions from one-hot encoding to class labels\n",
        "y_pred_aspect_labels = np.argmax(y_pred_aspect, axis=1)\n",
        "y_pred_polarity_labels = np.argmax(y_pred_polarity, axis=1)\n",
        "\n",
        "# Convert ground truth from one-hot encoding to class labels\n",
        "y_test_aspect_labels = np.argmax(y_test_aspect, axis=1)\n",
        "y_test_polarity_labels = np.argmax(y_test_polarity, axis=1)\n",
        "\n",
        "# Calculate Aspect metrics\n",
        "aspect_accuracy = accuracy_score(y_test_aspect_labels, y_pred_aspect_labels)\n",
        "aspect_precision = precision_score(y_test_aspect_labels, y_pred_aspect_labels, average='weighted')\n",
        "aspect_recall = recall_score(y_test_aspect_labels, y_pred_aspect_labels, average='weighted')\n",
        "aspect_f1 = f1_score(y_test_aspect_labels, y_pred_aspect_labels, average='weighted')\n",
        "\n",
        "# Print Aspect metrics\n",
        "print(\"\\nAspect metrics:\")\n",
        "print(f\"Accuracy: {aspect_accuracy}\")\n",
        "print(f\"Precision: {aspect_precision}\")\n",
        "print(f\"Recall: {aspect_recall}\")\n",
        "print(f\"F1 Score: {aspect_f1}\")\n",
        "\n",
        "# Calculate Polarity metrics\n",
        "polarity_accuracy = accuracy_score(y_test_polarity_labels, y_pred_polarity_labels)\n",
        "polarity_precision = precision_score(y_test_polarity_labels, y_pred_polarity_labels, average='weighted')\n",
        "polarity_recall = recall_score(y_test_polarity_labels, y_pred_polarity_labels, average='weighted')\n",
        "polarity_f1 = f1_score(y_test_polarity_labels, y_pred_polarity_labels, average='weighted')\n",
        "\n",
        "# Print Polarity metrics\n",
        "print(\"\\nPolarity metrics:\")\n",
        "print(f\"Accuracy: {polarity_accuracy}\")\n",
        "print(f\"Precision: {polarity_precision}\")\n",
        "print(f\"Recall: {polarity_recall}\")\n",
        "print(f\"F1 Score: {polarity_f1}\")"
      ]
    },
    {
      "cell_type": "markdown",
      "metadata": {
        "id": "EAqrGss4nMlv"
      },
      "source": [
        "**Hausa Bidirectional Encoder Representations from Transformers (HauBERT)**"
      ]
    },
    {
      "cell_type": "code",
      "execution_count": 38,
      "metadata": {
        "colab": {
          "base_uri": "https://localhost:8080/"
        },
        "id": "iZ3qVxPrnGtw",
        "outputId": "e3b049c0-c5c4-4edb-a2a4-4642d5e4846c"
      },
      "outputs": [
        {
          "output_type": "stream",
          "name": "stdout",
          "text": [
            "   Polarity  Polarity_Encoded\n",
            "0         1                 2\n",
            "1         3                 1\n",
            "2         3                 1\n",
            "3         3                 1\n",
            "4         3                 1\n"
          ]
        }
      ],
      "source": [
        "# Define a mapping function to convert the polarity labels\n",
        "def encode_polarity(polarity):\n",
        "    mapping = {\n",
        "        3: 1,\n",
        "        2: 0,\n",
        "        1: 2\n",
        "    }\n",
        "    return mapping.get(int(polarity), -1)  # Convert to int and default to -1 for unknown labels\n",
        "\n",
        "# Apply the encoding function to the 'Polarity' column\n",
        "df['Polarity_Encoded'] = df['Polarity'].apply(encode_polarity)\n",
        "\n",
        "# Display the first few rows of the updated DataFrame\n",
        "print(df[['Polarity', 'Polarity_Encoded']].head())\n"
      ]
    },
    {
      "cell_type": "markdown",
      "source": [
        "**Aspect-Based Annotation of Hausa Comments Using Rule-Based Keyword Matching**"
      ],
      "metadata": {
        "id": "NqrqGM7MwtTq"
      }
    },
    {
      "cell_type": "code",
      "execution_count": 39,
      "metadata": {
        "id": "reuENQQJozgl"
      },
      "outputs": [],
      "source": [
        "# Updated aspect categorization function based on content and name matching\n",
        "def annotate_aspect(comment, aspect_category):\n",
        "    \"\"\"\n",
        "    Annotates a comment with BIO tags based on aspect categories.\n",
        "\n",
        "    Args:\n",
        "        comment (str): The input comment.\n",
        "        aspect_category (str): The aspect category.\n",
        "\n",
        "    Returns:\n",
        "        dict: Tokenized words and their BIO tags.\n",
        "    \"\"\"\n",
        "    words = comment.split()\n",
        "    tags = []\n",
        "\n",
        "    # Check the aspect category based on the given aspect_category\n",
        "    if aspect_category == \"course content\":\n",
        "        tags = ['B-course content'] + ['I-course content'] * (len(words) - 1)\n",
        "    elif aspect_category == \"teaching performance\":\n",
        "        tags = ['B-teaching performance'] + ['I-teaching performance'] * (len(words) - 1)\n",
        "    elif aspect_category == \"teaching quality\":\n",
        "        tags = ['B-teaching quality'] + ['I-teaching quality'] * (len(words) - 1)\n",
        "    elif aspect_category == \"lecturer behavior\":\n",
        "        tags = ['B-lecturer behavior'] + ['I-lecturer behavior'] * (len(words) - 1)\n",
        "    elif aspect_category == \"course difficulty\":\n",
        "        tags = ['B-course difficulty'] + ['I-course difficulty'] * (len(words) - 1)\n",
        "    else:\n",
        "        tags = ['O'] * len(words)  # Other case if the category is unknown\n",
        "\n",
        "    return {\"words\": words, \"tags\": tags}\n",
        "\n",
        "# Function to determine aspect category based on content and name list matching\n",
        "def determine_aspect_category(comment):\n",
        "    \"\"\"\n",
        "    Determines the aspect category of a comment using keyword matching.\n",
        "\n",
        "    Args:\n",
        "        comment (str): The input comment.\n",
        "\n",
        "    Returns:\n",
        "        str: The determined aspect category.\n",
        "    \"\"\"\n",
        "    if \"course\" in comment or \"content\" in comment or \"it\" in comment:\n",
        "        return \"course content\"\n",
        "    elif \"hard\" in comment or \"easy\" in comment or \"difficult\" in comment:\n",
        "        return \"course difficulty\"\n",
        "    elif \"good man\" in comment or \"good lecturer\" in comment or \"respect\" in comment:\n",
        "        return \"lecturer behavior\"\n",
        "    elif \"good job\" in comment or \"performance\" in comment or \"keep it up\" in comment:\n",
        "        return \"teaching performance\"\n",
        "    elif \"explain\" in comment or \"teaches well\" in comment:\n",
        "        return \"teaching quality\"\n",
        "    else:\n",
        "        return None  # Default if no keywords match\n",
        "\n",
        "# Assuming the DataFrame `df` has a column 'Hausa' containing the comments\n",
        "# Create a new column to store aspect annotations\n",
        "df['Hausa'] = df['Hausa'].fillna('').astype(str)\n",
        "df['Annotations'] = [\n",
        "    annotate_aspect(comment, determine_aspect_category(comment))\n",
        "    for comment in df['Hausa']\n",
        "]\n",
        "\n",
        "# Display the annotated data\n",
        "#for index, row in df.iterrows():\n",
        "    #print(f\"Hausa: {row['Hausa']}\")\n",
        "    #print(f\"Words: {row['Annotations']['words']}\")\n",
        "    #print(f\"Tags: {row['Annotations']['tags']}\")\n",
        "    #print()\n"
      ]
    },
    {
      "cell_type": "markdown",
      "source": [
        "**Preparation of Training and Testing Datasets for Sentiment Analysis Using Hugging Face Format**"
      ],
      "metadata": {
        "id": "yNExCi9ZxYtG"
      }
    },
    {
      "cell_type": "code",
      "execution_count": 42,
      "metadata": {
        "id": "_iQtozhNvjkL",
        "colab": {
          "base_uri": "https://localhost:8080/"
        },
        "outputId": "363868c6-c10c-4349-fd8a-7503a4a05579"
      },
      "outputs": [
        {
          "output_type": "stream",
          "name": "stdout",
          "text": [
            "Train Dataset Sample:\n",
            "{'Hausa': 'hanya ce mai kyau', 'annotations': {'tags': ['O', 'O', 'O', 'O'], 'words': ['hanya', 'ce', 'mai', 'kyau']}, 'Polarity_Encoded': 1}\n",
            "\n",
            "Test Dataset Sample:\n",
            "{'Hausa': 'kyakkyawan hanya ina kawai fata na wuce', 'annotations': {'tags': ['O', 'O', 'O', 'O', 'O', 'O', 'O'], 'words': ['kyakkyawan', 'hanya', 'ina', 'kawai', 'fata', 'na', 'wuce']}, 'Polarity_Encoded': 1}\n"
          ]
        }
      ],
      "source": [
        "# Split into train and test sets\n",
        "train_texts, test_texts, train_annotations, test_annotations, train_sentiments, test_sentiments = train_test_split(\n",
        "    df[\"Hausa\"], df[\"Annotations\"], df[\"Polarity_Encoded\"], test_size=0.2, random_state=42\n",
        ")\n",
        "\n",
        "# Convert to Hugging Face Dataset\n",
        "train_dataset = Dataset.from_dict({\n",
        "    \"Hausa\": train_texts.tolist(),\n",
        "    \"annotations\": train_annotations.tolist(),\n",
        "    \"Polarity_Encoded\": train_sentiments.tolist()\n",
        "})\n",
        "test_dataset = Dataset.from_dict({\n",
        "    \"Hausa\": test_texts.tolist(),\n",
        "    \"annotations\": test_annotations.tolist(),\n",
        "    \"Polarity_Encoded\": test_sentiments.tolist()\n",
        "})\n",
        "\n",
        "# Display dataset samples\n",
        "print(\"Train Dataset Sample:\")\n",
        "print(train_dataset[0])\n",
        "\n",
        "print(\"\\nTest Dataset Sample:\")\n",
        "print(test_dataset[0])\n"
      ]
    },
    {
      "cell_type": "code",
      "execution_count": 43,
      "metadata": {
        "colab": {
          "base_uri": "https://localhost:8080/"
        },
        "id": "eoqDGf-1v4vY",
        "outputId": "ba677c70-5756-42a5-9a13-0f1897470dc4"
      },
      "outputs": [
        {
          "output_type": "execute_result",
          "data": {
            "text/plain": [
              "Dataset({\n",
              "    features: ['Hausa', 'annotations', 'Polarity_Encoded'],\n",
              "    num_rows: 8000\n",
              "})"
            ]
          },
          "metadata": {},
          "execution_count": 43
        }
      ],
      "source": [
        "train_dataset"
      ]
    },
    {
      "cell_type": "markdown",
      "source": [
        "**Initializing Tokenizer and Pre-trained mBERT Models for Aspect Extraction and Sentiment Classification**"
      ],
      "metadata": {
        "id": "LFN-WTIeyNuD"
      }
    },
    {
      "cell_type": "code",
      "source": [
        "!pip install torch torchvision torchaudio --quiet\n"
      ],
      "metadata": {
        "id": "ffAJ0NlwTxfE"
      },
      "execution_count": 2,
      "outputs": []
    },
    {
      "cell_type": "code",
      "source": [
        "from transformers import BertTokenizer, BertForTokenClassification, BertForSequenceClassification\n",
        "\n",
        "# Load mBERT tokenizer\n",
        "tokenizer = BertTokenizer.from_pretrained(\"bert-base-multilingual-cased\")\n",
        "\n",
        "# Load models for token classification (aspect extraction) and sequence classification (sentiment polarity)\n",
        "aspect_model = BertForTokenClassification.from_pretrained(\n",
        "    \"bert-base-multilingual-cased\",\n",
        "    num_labels=5  # Labels: B-Aspect, I-Aspect, O\n",
        ")\n",
        "\n",
        "sentiment_model = BertForSequenceClassification.from_pretrained(\n",
        "    \"bert-base-multilingual-cased\",\n",
        "    num_labels=3  # Sentiments: negative, neutral, positive\n",
        ")"
      ],
      "metadata": {
        "colab": {
          "base_uri": "https://localhost:8080/"
        },
        "id": "D09PXZ2dT4Mm",
        "outputId": "ada6c2e1-c7e1-471c-9978-8a47ed65d849"
      },
      "execution_count": 44,
      "outputs": [
        {
          "output_type": "stream",
          "name": "stderr",
          "text": [
            "Some weights of BertForTokenClassification were not initialized from the model checkpoint at bert-base-multilingual-cased and are newly initialized: ['classifier.bias', 'classifier.weight']\n",
            "You should probably TRAIN this model on a down-stream task to be able to use it for predictions and inference.\n",
            "Some weights of BertForSequenceClassification were not initialized from the model checkpoint at bert-base-multilingual-cased and are newly initialized: ['classifier.bias', 'classifier.weight']\n",
            "You should probably TRAIN this model on a down-stream task to be able to use it for predictions and inference.\n"
          ]
        }
      ]
    },
    {
      "cell_type": "markdown",
      "source": [
        "**Tokenization and Label Alignment using BERT for Hausa Sentiment Analysis**"
      ],
      "metadata": {
        "id": "_8bzik-Yybwi"
      }
    },
    {
      "cell_type": "code",
      "execution_count": 45,
      "metadata": {
        "id": "ZDc57TF5wSCc"
      },
      "outputs": [],
      "source": [
        "from transformers import BertTokenizerFast\n",
        "\n",
        "# Initialize tokenizer (we'll use mBERT tokenizer here)\n",
        "tokenizer = BertTokenizerFast.from_pretrained(\"bert-base-uncased\")\n",
        "\n",
        "\n",
        "def tokenize_and_align_labels(examples):\n",
        "    # Tokenize the comments\n",
        "    tokenized_inputs = tokenizer(examples[\"Hausa\"], truncation=True, padding=\"max_length\", max_length=128, is_split_into_words=False)\n",
        "\n",
        "    # Align labels with tokenized inputs\n",
        "    labels = []\n",
        "    for i, label in enumerate(examples[\"annotations\"]):\n",
        "        word_ids = tokenized_inputs.word_ids(batch_index=i)  # Map tokens to words\n",
        "        label_ids = []\n",
        "        previous_word_id = None\n",
        "        for word_id in word_ids:\n",
        "            if word_id is None:\n",
        "                label_ids.append(-100)  # Ignore special tokens (like [CLS], [SEP], padding)\n",
        "            elif word_id != previous_word_id:  # First subword token\n",
        "                label_ids.append(label[word_id])\n",
        "            else:  # Subsequent subword token\n",
        "                label_ids.append(label[word_id])\n",
        "            previous_word_id = word_id\n",
        "        labels.append(label_ids)\n",
        "\n",
        "    # Return the tokenized inputs, labels, and sentiment (sentiment stays as a whole, not per token)\n",
        "    tokenized_inputs[\"labels\"] = labels\n",
        "    tokenized_inputs[\"sentiments\"] = examples[\"Polarity_Encoded\"]  # Sentiment for the whole comment\n",
        "    return tokenized_inputs\n"
      ]
    },
    {
      "cell_type": "markdown",
      "source": [
        "**Tokenization and BIO Tag Alignment for Aspect-Based Sentiment Analysis:**\n",
        "This section defines a function to tokenize Hausa language comments and align the corresponding BIO tags (Begin, Inside, Outside) for teaching-related aspects such as teaching quality, teaching performance, and course difficulty. The labels are mapped to numerical values for model training. The function ensures correct alignment between tokens and tags after tokenization using a Hugging Face tokenizer."
      ],
      "metadata": {
        "id": "gWe2SdAEy3WQ"
      }
    },
    {
      "cell_type": "code",
      "execution_count": 46,
      "metadata": {
        "colab": {
          "base_uri": "https://localhost:8080/",
          "height": 17,
          "referenced_widgets": [
            "cc14df86eba04481b95e2d8c4b3a3636",
            "7c62dd8191774c779c57c38831e1227a",
            "a55ac50f796e46d6928d357db6b9310f",
            "9a7c63d901e641ec8bcc70516f22ac5f",
            "3cfc03c125d249d8a37b5a617d8547ee",
            "382994686b594a0180c9bef9089288fb",
            "b7527ff49e294dafaa4a4033c521c959",
            "c303234aedd64b7a95395d83b733fe01",
            "1cb777ff283e439bbedc640e180e1668",
            "88ff81fc72f64a199ce1d9872cdb2a8f",
            "8e5686bb214d4b4c9827dc581d27c5f0",
            "7fe1ad5aab974df9a665637daee51382",
            "283eabb50881487aa12f6635abd08bc8",
            "f9c82c1fadca4294a0cc611e2f831993",
            "d8834abac8174159882ea52d6d36945e",
            "c3cbed3c8a744dd092c43aed14094ee8",
            "4a186c560b654aca83a5c975e14c6183",
            "419205548ff748e2a29c4e5896bc7a8d",
            "9db37698888d4297a71335a0de1dc407",
            "0fad005dfe2c418bbcc43317262fbbc3",
            "dd0f9924cddd4d9f972367e79f341d87",
            "8067c44c8c4641d5b24707fb21cbee82"
          ]
        },
        "id": "B8UTnW85wmD3",
        "outputId": "8f22de82-3831-4432-8d99-b379d73c42f2"
      },
      "outputs": [
        {
          "output_type": "display_data",
          "data": {
            "text/plain": [
              "Map:   0%|          | 0/8000 [00:00<?, ? examples/s]"
            ],
            "application/vnd.jupyter.widget-view+json": {
              "version_major": 2,
              "version_minor": 0,
              "model_id": "cc14df86eba04481b95e2d8c4b3a3636"
            }
          },
          "metadata": {}
        },
        {
          "output_type": "display_data",
          "data": {
            "text/plain": [
              "Map:   0%|          | 0/2000 [00:00<?, ? examples/s]"
            ],
            "application/vnd.jupyter.widget-view+json": {
              "version_major": 2,
              "version_minor": 0,
              "model_id": "7fe1ad5aab974df9a665637daee51382"
            }
          },
          "metadata": {}
        }
      ],
      "source": [
        "# Create a mapping for BIO tags to numerical labels\n",
        "tag2id = {'O': 0, 'B-teaching quality': 1, 'I-teaching quality': 1, 'B-teaching performance': 2, 'I-teaching performance': 2, 'B-course difficulty': 3, 'I-course difficulty': 3,\n",
        "          'B-course content': 4, 'I-course content': 4, 'B-lecturer behavior': 4, 'I-lecturer behavior': 4}\n",
        "id2tag = {id: tag for tag, id in tag2id.items()}\n",
        "\n",
        "def tokenize_and_align_labels(examples):\n",
        "    # Tokenize the comments\n",
        "    tokenized_inputs = tokenizer(examples[\"Hausa\"], truncation=True, padding=\"max_length\", max_length=128, is_split_into_words=False)\n",
        "\n",
        "    # Align labels with tokenized inputs\n",
        "    labels = []\n",
        "    for i, label in enumerate(examples[\"annotations\"]):\n",
        "        word_ids = tokenized_inputs.word_ids(batch_index=i)  # Map tokens to words\n",
        "        label_ids = []\n",
        "        previous_word_id = None\n",
        "        for word_id in word_ids:\n",
        "            if word_id is None:\n",
        "                label_ids.append(-100)  # Ignore special tokens (like [CLS], [SEP], padding)\n",
        "            elif word_id != previous_word_id:  # First subword token\n",
        "                # Access the 'tags' list from the label dictionary\n",
        "                # and adjust the index to match the token position\n",
        "                if word_id < len(label['tags']):  # Check if word_id is within the bounds of tags\n",
        "                    # Convert the BIO tag to its corresponding numerical label\n",
        "                    label_ids.append(tag2id[label['tags'][word_id]])\n",
        "                else:\n",
        "                    label_ids.append(-100) # Assign -100 if word_id is out of bounds\n",
        "\n",
        "            else:  # Subsequent subword token\n",
        "                # Access the 'tags' list from the label dictionary\n",
        "                # and adjust the index to match the token position\n",
        "                if word_id < len(label['tags']): # Check if word_id is within the bounds of tags\n",
        "                    # Convert the BIO tag to its corresponding numerical label\n",
        "                    label_ids.append(tag2id[label['tags'][word_id]])\n",
        "                else:\n",
        "                    label_ids.append(-100)  # Assign -100 if word_id is out of bounds\n",
        "            previous_word_id = word_id\n",
        "        labels.append(label_ids)\n",
        "\n",
        "    # Return the tokenized inputs, labels, and sentiment (sentiment stays as a whole, not per token)\n",
        "    tokenized_inputs[\"labels\"] = labels\n",
        "    tokenized_inputs[\"sentiments\"] = examples[\"Polarity_Encoded\"]  # Sentiment for the whole comment\n",
        "    return tokenized_inputs\n",
        "train_tokenized = train_dataset.map(tokenize_and_align_labels, batched=True)\n",
        "test_tokenized = test_dataset.map(tokenize_and_align_labels, batched=True)"
      ]
    },
    {
      "cell_type": "markdown",
      "source": [
        "**Conversion of Tokenized Dataset to TensorDataset and DataLoader Setup**"
      ],
      "metadata": {
        "id": "jyiDiWhfzZ7y"
      }
    },
    {
      "cell_type": "code",
      "execution_count": 47,
      "metadata": {
        "id": "nZHhxOw_ycUU"
      },
      "outputs": [],
      "source": [
        "from torch.utils.data import TensorDataset\n",
        "# Convert train and test datasets to PyTorch tensors\n",
        "def convert_to_tensor_dataset(dataset):\n",
        "    # Extract input IDs, attention masks, labels, and sentiments\n",
        "    input_ids = torch.tensor(dataset['input_ids'])\n",
        "    attention_masks = torch.tensor(dataset['attention_mask'])\n",
        "    labels = torch.tensor(dataset['labels'])\n",
        "    sentiments = torch.tensor(dataset['sentiments'])  # Sentiment labels\n",
        "\n",
        "    return TensorDataset(input_ids, attention_masks, labels, sentiments)\n",
        "\n",
        "# Convert both train and test datasets\n",
        "train_tensor_dataset = convert_to_tensor_dataset(train_tokenized)\n",
        "test_tensor_dataset = convert_to_tensor_dataset(test_tokenized)\n",
        "\n",
        "# Create DataLoader for training and testing\n",
        "train_loader = DataLoader(train_tensor_dataset, batch_size=8, shuffle=True)\n",
        "test_loader = DataLoader(test_tensor_dataset, batch_size=8)\n"
      ]
    },
    {
      "cell_type": "markdown",
      "source": [
        "**Loading and Unpacking Batches for Model Training**"
      ],
      "metadata": {
        "id": "tT6OK8a5zk1y"
      }
    },
    {
      "cell_type": "code",
      "execution_count": 48,
      "metadata": {
        "id": "RIDKiO8gyl2z"
      },
      "outputs": [],
      "source": [
        "for batch in train_loader:\n",
        "    input_ids = batch[0]  # First tensor\n",
        "    attention_mask = batch[1]  # Second tensor\n",
        "    token_labels = batch[2]  # Third tensor (token-level labels)\n",
        "    sequence_labels = batch[3]  # Fourth tensor (sequence-level labels)\n",
        "\n",
        "    #print(input_ids.shape, attention_mask.shape, token_labels.shape, sequence_labels.shape)\n",
        "\n"
      ]
    },
    {
      "cell_type": "markdown",
      "source": [
        "**Data Loading and Batch Preparation**"
      ],
      "metadata": {
        "id": "t50ktaXrzty7"
      }
    },
    {
      "cell_type": "code",
      "execution_count": 49,
      "metadata": {
        "id": "bvJVbv1xyvyh"
      },
      "outputs": [],
      "source": [
        "for batch in train_loader:\n",
        "    input_ids, attention_masks, labels, sentiments = batch  # Unpack correctly\n",
        "    inputs = {\n",
        "        \"input_ids\": input_ids.to(\"cpu\"),\n",
        "        \"attention_mask\": attention_masks.to(\"cpu\"),\n",
        "        \"labels\": sentiments.to(\"cpu\")\n",
        "    }\n",
        "\n"
      ]
    },
    {
      "cell_type": "markdown",
      "source": [
        "**Extracting and Displaying Unique Sentiment Labels from Training Data**"
      ],
      "metadata": {
        "id": "pz7PWovaz1l-"
      }
    },
    {
      "cell_type": "code",
      "execution_count": 50,
      "metadata": {
        "colab": {
          "base_uri": "https://localhost:8080/"
        },
        "id": "H9r7uK6wNOgz",
        "outputId": "851d93c1-5a6f-4570-c3b5-1a212f837c70"
      },
      "outputs": [
        {
          "output_type": "stream",
          "name": "stdout",
          "text": [
            "Unique sentiment labels in dataset: {0, 1, 2}\n"
          ]
        }
      ],
      "source": [
        "all_sentiments = []\n",
        "for batch in train_loader:\n",
        "    _, _, _, sentiments = batch\n",
        "    all_sentiments.extend(sentiments.tolist())\n",
        "\n",
        "print(f\"Unique sentiment labels in dataset: {set(all_sentiments)}\")\n"
      ]
    },
    {
      "cell_type": "markdown",
      "source": [
        "**Training Procedure for Sentiment Analysis Model Using PyTorch and CUDA**"
      ],
      "metadata": {
        "id": "8ELRyRnu0BPh"
      }
    },
    {
      "cell_type": "code",
      "execution_count": 51,
      "metadata": {
        "id": "CO4gXhYDzAQk"
      },
      "outputs": [],
      "source": [
        "device = torch.device(\"cuda\")\n",
        "def train_model(model, dataloader, optimizer, num_epochs=10):\n",
        "    model.to(device)  # Move model to the appropriate device\n",
        "    model.train()\n",
        "    for epoch in range(num_epochs):\n",
        "        total_loss = 0\n",
        "        progress_bar = tqdm(dataloader, desc=f\"Epoch {epoch + 1}\")\n",
        "        for batch in progress_bar:\n",
        "            input_ids, attention_masks, labels, sentiments = batch\n",
        "            inputs = {\n",
        "                \"input_ids\": input_ids.to(device),\n",
        "                \"attention_mask\": attention_masks.to(device),\n",
        "                \"labels\": labels.to(device)  # Adjust for sentiment model if needed\n",
        "            }\n",
        "            outputs = model(**inputs)\n",
        "            loss = outputs.loss\n",
        "            total_loss += loss.item()\n",
        "\n",
        "            loss.backward()\n",
        "            optimizer.step()\n",
        "            optimizer.zero_grad()\n",
        "\n",
        "            progress_bar.set_postfix({\"loss\": loss.item()})\n",
        "        print(f\"Epoch {epoch + 1}, Average Loss: {total_loss / len(dataloader)}\")\n"
      ]
    },
    {
      "cell_type": "markdown",
      "source": [
        "**Batch Data Loading and Inspection**"
      ],
      "metadata": {
        "id": "PjfgejiL0J4Q"
      }
    },
    {
      "cell_type": "code",
      "execution_count": 52,
      "metadata": {
        "colab": {
          "base_uri": "https://localhost:8080/"
        },
        "id": "1IM-08IczTxh",
        "outputId": "9de52804-6be9-4429-f032-c4476ce020ce"
      },
      "outputs": [
        {
          "output_type": "stream",
          "name": "stdout",
          "text": [
            "Input IDs shape: torch.Size([8, 128])\n",
            "Attention masks shape: torch.Size([8, 128])\n",
            "Labels shape: torch.Size([8, 128])\n",
            "Polarity shape: torch.Size([8])\n"
          ]
        }
      ],
      "source": [
        "for batch in train_loader:\n",
        "    input_ids, attention_masks, labels, polarity = batch\n",
        "\n",
        "\n",
        "    print(f\"Input IDs shape: {input_ids.shape}\")\n",
        "    print(f\"Attention masks shape: {attention_masks.shape}\")\n",
        "    print(f\"Labels shape: {labels.shape}\")\n",
        "    print(f\"Polarity shape: {polarity.shape}\")\n",
        "    #print(labels)\n",
        "    break\n"
      ]
    },
    {
      "cell_type": "markdown",
      "source": [
        "**Loading and Debugging Batch Sentiment Data**"
      ],
      "metadata": {
        "id": "Ovkfm_0O0Z1A"
      }
    },
    {
      "cell_type": "code",
      "execution_count": 53,
      "metadata": {
        "colab": {
          "base_uri": "https://localhost:8080/"
        },
        "id": "pvy4z_1fNOg2",
        "outputId": "98323272-7b91-4995-e617-d67149e9caea"
      },
      "outputs": [
        {
          "output_type": "stream",
          "name": "stdout",
          "text": [
            "Sentiments in batch: tensor([1, 1, 1, 0, 1, 1, 1, 1])\n",
            "Max label value: 1\n",
            "Min label value: 0\n"
          ]
        }
      ],
      "source": [
        "for batch in train_loader:\n",
        "    input_ids, attention_masks, labels, sentiments = batch\n",
        "    print(f\"Sentiments in batch: {sentiments}\")  # Debug sentiment labels\n",
        "    print(f\"Max label value: {sentiments.max()}\")\n",
        "    print(f\"Min label value: {sentiments.min()}\")\n",
        "    break\n"
      ]
    },
    {
      "cell_type": "markdown",
      "source": [
        "**Training Function for Text Classification Models (Sentiment and Aspect-Based)**"
      ],
      "metadata": {
        "id": "ZsNS4jy10snI"
      }
    },
    {
      "cell_type": "code",
      "execution_count": 54,
      "metadata": {
        "id": "1LK81apr-d_P"
      },
      "outputs": [],
      "source": [
        "# Training Function\n",
        "def train_model(model, dataloader, optimizer, task_type=\"sentiment\", num_epochs=10):\n",
        "    model.train()\n",
        "    best_loss = float('inf')\n",
        "    best_model = None\n",
        "\n",
        "    train_losses = []\n",
        "    test_losses = []\n",
        "    train_accuracies = []\n",
        "    test_accuracies = []\n",
        "\n",
        "    for epoch in range(num_epochs):\n",
        "        total_loss = 0\n",
        "        correct = 0\n",
        "        total = 0\n",
        "\n",
        "        for batch in dataloader:\n",
        "            # Unpack the batch\n",
        "            input_ids, attention_masks, labels, sentiments = batch\n",
        "\n",
        "            # Prepare inputs for the model\n",
        "            inputs = {\n",
        "                \"input_ids\": input_ids.to(\"cuda\"),\n",
        "                \"attention_mask\": attention_masks.to(\"cuda\")\n",
        "            }\n",
        "\n",
        "            # Check task type\n",
        "            if task_type == \"sentiment\":\n",
        "                inputs[\"labels\"] = sentiments.to(\"cuda\")  # Sequence-level labels\n",
        "            elif task_type == \"aspect\":\n",
        "                inputs[\"labels\"] = labels.to(\"cuda\")  # Token-level labels\n",
        "\n",
        "            # Forward pass\n",
        "            outputs = model(**inputs)\n",
        "            loss = outputs.loss\n",
        "            logits = outputs.logits\n",
        "\n",
        "            total_loss += loss.item()\n",
        "\n",
        "            # Accuracy calculation\n",
        "            preds = torch.argmax(logits, dim=-1)\n",
        "            correct += (preds == inputs[\"labels\"]).sum().item()\n",
        "            total += inputs[\"labels\"].numel()\n",
        "\n",
        "            # Backward pass and optimization\n",
        "            loss.backward()\n",
        "            optimizer.step()\n",
        "            optimizer.zero_grad()\n",
        "\n",
        "        # Calculate average loss and accuracy for the epoch\n",
        "        avg_loss = total_loss / len(dataloader)\n",
        "        avg_accuracy = correct / total\n",
        "\n",
        "        train_losses.append(avg_loss)\n",
        "        train_accuracies.append(avg_accuracy)\n",
        "\n",
        "        # Save the best model based on loss\n",
        "        if avg_loss < best_loss:\n",
        "            best_loss = avg_loss\n",
        "            best_model = model.state_dict()\n",
        "\n",
        "        print(f\"Epoch {epoch + 1}, Loss: {avg_loss}, Accuracy: {avg_accuracy}\")\n",
        "\n",
        "    # Save the best model\n",
        "    if task_type == \"sentiment\":\n",
        "        torch.save(best_model, \"best_sentiment_model.pth\")\n",
        "    elif task_type == \"aspect\":\n",
        "        torch.save(best_model, \"best_aspect_model.pth\")\n",
        "\n",
        "    return train_losses, train_accuracies"
      ]
    },
    {
      "cell_type": "markdown",
      "source": [
        "**Training the Aspect Extraction and Sentiment Classification Models**"
      ],
      "metadata": {
        "id": "0WE41ry605wM"
      }
    },
    {
      "cell_type": "code",
      "source": [
        "# Train the Aspect Extraction\n",
        "print(\"Training Aspect Extraction Model...\")\n",
        "aspect_optimizer = AdamW(aspect_model.parameters(), lr=5e-5)\n",
        "aspect_model.to(\"cuda\")\n",
        "\n",
        "aspect_train_losses, aspect_train_accuracies = train_model(\n",
        "    model=aspect_model,\n",
        "    dataloader=train_loader,\n",
        "    optimizer=aspect_optimizer,\n",
        "    task_type=\"aspect\",\n",
        "    num_epochs=10,\n",
        ")\n",
        "\n",
        "# Train the Sentiment Classification model\n",
        "print(\"Training Sentiment Classification Model...\")\n",
        "sentiment_optimizer = AdamW(sentiment_model.parameters(), lr=5e-5)\n",
        "sentiment_model.to(\"cuda\")\n",
        "sentiment_train_losses, sentiment_train_accuracies = train_model(\n",
        "    model=sentiment_model,\n",
        "    dataloader=train_loader,\n",
        "    optimizer=sentiment_optimizer,\n",
        "    task_type=\"sentiment\",\n",
        "    num_epochs=10,\n",
        ")\n"
      ],
      "metadata": {
        "colab": {
          "base_uri": "https://localhost:8080/"
        },
        "id": "PynGcAR3nkJK",
        "outputId": "21cadca1-f8e3-486d-e6d1-91f4376ab83f"
      },
      "execution_count": 56,
      "outputs": [
        {
          "output_type": "stream",
          "name": "stdout",
          "text": [
            "Training Aspect Extraction Model...\n",
            "Epoch 1, Loss: 0.1701924948847154, Accuracy: 0.07980078125\n",
            "Epoch 2, Loss: 0.1665099181840196, Accuracy: 0.0797998046875\n",
            "Epoch 3, Loss: 0.16358436714857816, Accuracy: 0.07980078125\n",
            "Epoch 4, Loss: 0.16414793225657195, Accuracy: 0.07980078125\n",
            "Epoch 5, Loss: 0.16010481636598706, Accuracy: 0.07980078125\n",
            "Epoch 6, Loss: 0.16405549925565718, Accuracy: 0.07980078125\n",
            "Epoch 7, Loss: 0.16478745774924755, Accuracy: 0.07980078125\n",
            "Epoch 8, Loss: 0.1638638904429972, Accuracy: 0.07980078125\n",
            "Epoch 9, Loss: 0.16230749823525548, Accuracy: 0.07980078125\n",
            "Epoch 10, Loss: 0.16446088975854217, Accuracy: 0.07978515625\n",
            "Training Sentiment Classification Model...\n",
            "Epoch 1, Loss: 0.627115619905293, Accuracy: 0.778375\n",
            "Epoch 2, Loss: 0.6721703463792801, Accuracy: 0.781125\n",
            "Epoch 3, Loss: 0.672148611754179, Accuracy: 0.781125\n",
            "Epoch 4, Loss: 0.672747223958373, Accuracy: 0.781125\n",
            "Epoch 5, Loss: 0.6710260569751263, Accuracy: 0.781125\n",
            "Epoch 6, Loss: 0.6714267100393773, Accuracy: 0.781125\n",
            "Epoch 7, Loss: 0.6697506028413772, Accuracy: 0.781125\n",
            "Epoch 8, Loss: 0.6701686041951179, Accuracy: 0.781125\n",
            "Epoch 9, Loss: 0.6701239943951368, Accuracy: 0.781125\n",
            "Epoch 10, Loss: 0.6679437528550625, Accuracy: 0.781125\n"
          ]
        }
      ]
    },
    {
      "cell_type": "markdown",
      "source": [
        "**Evaluation of Sentiment Polarity and Aspect Extraction Models**"
      ],
      "metadata": {
        "id": "Wm3zvoyY1FXL"
      }
    },
    {
      "cell_type": "code",
      "execution_count": 57,
      "metadata": {
        "id": "6PCaqWQO6FJO"
      },
      "outputs": [],
      "source": [
        "def evaluate_model(model, dataloader, task_type=\"Polarity\"):\n",
        "    model.eval()\n",
        "    all_preds, all_labels = [], []\n",
        "\n",
        "    with torch.no_grad():\n",
        "        for batch in dataloader:\n",
        "            # Unpack the batch data\n",
        "            input_ids, attention_masks, labels, sentiments = batch\n",
        "            inputs = {\n",
        "                \"input_ids\": input_ids.to(\"cuda\"),\n",
        "                \"attention_mask\": attention_masks.to(\"cuda\")\n",
        "            }\n",
        "\n",
        "            # Check if task is sentiment or aspect extraction\n",
        "            if task_type == \"sentiment\":\n",
        "                # Sentiment model uses sequence-level labels\n",
        "                inputs[\"labels\"] = sentiments.to(\"cuda\")  # One label per sequence\n",
        "            elif task_type == \"aspect\":\n",
        "                # Aspect extraction model uses token-level labels\n",
        "                inputs[\"labels\"] = labels.to(\"cuda\")  # One label per token in sequence\n",
        "\n",
        "            # Get model predictions\n",
        "            outputs = model(**inputs)\n",
        "            preds = torch.argmax(outputs.logits, dim=-1)\n",
        "\n",
        "            # Store predictions and labels\n",
        "            all_preds.append(preds.cpu().numpy())\n",
        "            all_labels.append(sentiments.cpu().numpy() if task_type == \"Polarity\" else labels.cpu().numpy())\n",
        "\n",
        "    # Flatten the lists of predictions and labels for aspect extraction task\n",
        "    all_preds = np.concatenate(all_preds)\n",
        "    all_labels = np.concatenate(all_labels)\n",
        "\n",
        "    # If it's aspect extraction, ignore padding tokens by masking them out\n",
        "    if task_type == \"aspect\":\n",
        "        # Assuming label value -100 is used for padding, remove these from the labels and predictions\n",
        "        mask = all_labels != -100\n",
        "        all_preds = all_preds[mask]\n",
        "        all_labels = all_labels[mask]\n",
        "    # Ensure 1D arrays for metrics\n",
        "    all_preds = all_preds.flatten()\n",
        "    all_labels = all_labels.flatten()\n",
        "\n",
        "    # Calculate individual metrics\n",
        "    accuracy = accuracy_score(all_labels, all_preds)\n",
        "    precision = precision_score(all_labels, all_preds, average='weighted',zero_division=0)\n",
        "    recall = recall_score(all_labels, all_preds, average='weighted')\n",
        "    f1 = f1_score(all_labels, all_preds, average='weighted')\n",
        "\n",
        "    # Print the classification report\n",
        "    print(classification_report(all_labels, all_preds))\n",
        "\n",
        "    # Print individual metrics\n",
        "    print(f\"Accuracy: {accuracy:.4f}\")\n",
        "    print(f\"Precision: {precision:.4f}\")\n",
        "    print(f\"Recall: {recall:.4f}\")\n",
        "    print(f\"F1-Score: {f1:.4f}\")\n",
        "\n",
        "    return accuracy, precision, recall, f1  # Return precision, recall, and F1 for averaging later\n"
      ]
    },
    {
      "cell_type": "markdown",
      "source": [
        "**Evaluate Aspect Model**"
      ],
      "metadata": {
        "id": "TNehuPxJ2NAg"
      }
    },
    {
      "cell_type": "code",
      "execution_count": 58,
      "metadata": {
        "colab": {
          "base_uri": "https://localhost:8080/"
        },
        "id": "lrq7WpAONOg4",
        "outputId": "b282a912-1b85-4dee-a63f-2fe2d2deec20"
      },
      "outputs": [
        {
          "output_type": "stream",
          "name": "stdout",
          "text": [
            "              precision    recall  f1-score   support\n",
            "\n",
            "           0       0.97      1.00      0.99     20838\n",
            "           4       0.00      0.00      0.00       610\n",
            "\n",
            "    accuracy                           0.97     21448\n",
            "   macro avg       0.49      0.50      0.49     21448\n",
            "weighted avg       0.94      0.97      0.96     21448\n",
            "\n",
            "Accuracy: 0.9716\n",
            "Precision: 0.9439\n",
            "Recall: 0.9716\n",
            "F1-Score: 0.9575\n"
          ]
        },
        {
          "output_type": "stream",
          "name": "stderr",
          "text": [
            "/usr/local/lib/python3.11/dist-packages/sklearn/metrics/_classification.py:1565: UndefinedMetricWarning: Precision is ill-defined and being set to 0.0 in labels with no predicted samples. Use `zero_division` parameter to control this behavior.\n",
            "  _warn_prf(average, modifier, f\"{metric.capitalize()} is\", len(result))\n",
            "/usr/local/lib/python3.11/dist-packages/sklearn/metrics/_classification.py:1565: UndefinedMetricWarning: Precision is ill-defined and being set to 0.0 in labels with no predicted samples. Use `zero_division` parameter to control this behavior.\n",
            "  _warn_prf(average, modifier, f\"{metric.capitalize()} is\", len(result))\n",
            "/usr/local/lib/python3.11/dist-packages/sklearn/metrics/_classification.py:1565: UndefinedMetricWarning: Precision is ill-defined and being set to 0.0 in labels with no predicted samples. Use `zero_division` parameter to control this behavior.\n",
            "  _warn_prf(average, modifier, f\"{metric.capitalize()} is\", len(result))\n"
          ]
        }
      ],
      "source": [
        "# Evaluate Aspect Model\n",
        "aspect_accuracy, aspect_precision, aspect_recall, aspect_f1 = evaluate_model(aspect_model, test_loader, task_type=\"aspect\")\n"
      ]
    },
    {
      "cell_type": "markdown",
      "source": [
        "**Polarity Model Evaluation**"
      ],
      "metadata": {
        "id": "PIEg6edz1SRq"
      }
    },
    {
      "cell_type": "code",
      "execution_count": 59,
      "metadata": {
        "colab": {
          "base_uri": "https://localhost:8080/"
        },
        "id": "UU3b92IKNOg5",
        "outputId": "23972bf6-a114-452c-ae54-dffdb3b76516"
      },
      "outputs": [
        {
          "output_type": "stream",
          "name": "stderr",
          "text": [
            "/usr/local/lib/python3.11/dist-packages/torch/nn/modules/module.py:1762: FutureWarning: `encoder_attention_mask` is deprecated and will be removed in version 4.55.0 for `BertSdpaSelfAttention.forward`.\n",
            "  return forward_call(*args, **kwargs)\n"
          ]
        },
        {
          "output_type": "stream",
          "name": "stdout",
          "text": [
            "              precision    recall  f1-score   support\n",
            "\n",
            "           0       0.00      0.00      0.00       141\n",
            "           1       0.78      1.00      0.88      1566\n",
            "           2       0.00      0.00      0.00       293\n",
            "\n",
            "    accuracy                           0.78      2000\n",
            "   macro avg       0.26      0.33      0.29      2000\n",
            "weighted avg       0.61      0.78      0.69      2000\n",
            "\n",
            "Accuracy: 0.7830\n",
            "Precision: 0.6131\n",
            "Recall: 0.7830\n",
            "F1-Score: 0.6877\n"
          ]
        },
        {
          "output_type": "stream",
          "name": "stderr",
          "text": [
            "/usr/local/lib/python3.11/dist-packages/sklearn/metrics/_classification.py:1565: UndefinedMetricWarning: Precision is ill-defined and being set to 0.0 in labels with no predicted samples. Use `zero_division` parameter to control this behavior.\n",
            "  _warn_prf(average, modifier, f\"{metric.capitalize()} is\", len(result))\n",
            "/usr/local/lib/python3.11/dist-packages/sklearn/metrics/_classification.py:1565: UndefinedMetricWarning: Precision is ill-defined and being set to 0.0 in labels with no predicted samples. Use `zero_division` parameter to control this behavior.\n",
            "  _warn_prf(average, modifier, f\"{metric.capitalize()} is\", len(result))\n",
            "/usr/local/lib/python3.11/dist-packages/sklearn/metrics/_classification.py:1565: UndefinedMetricWarning: Precision is ill-defined and being set to 0.0 in labels with no predicted samples. Use `zero_division` parameter to control this behavior.\n",
            "  _warn_prf(average, modifier, f\"{metric.capitalize()} is\", len(result))\n"
          ]
        }
      ],
      "source": [
        "# Evaluate Polarity Model\n",
        "sentiment_accuracy, sentiment_precision, sentiment_recall, sentiment_f1 = evaluate_model(sentiment_model, test_loader, task_type=\"Polarity\")\n"
      ]
    },
    {
      "cell_type": "markdown",
      "source": [
        "**Calculation of Average Evaluation Metrics**"
      ],
      "metadata": {
        "id": "9J5lWRkq1a_3"
      }
    },
    {
      "cell_type": "code",
      "execution_count": 60,
      "metadata": {
        "colab": {
          "base_uri": "https://localhost:8080/"
        },
        "id": "l2ch08bHNOg5",
        "outputId": "e3280249-e951-48df-a487-215b7008af3f"
      },
      "outputs": [
        {
          "output_type": "stream",
          "name": "stdout",
          "text": [
            "\n",
            "--- AVERAGE METRICS ---\n",
            "Average Accuracy: 0.8773\n",
            "Average Precision: 0.7785\n",
            "Average Recall: 0.8773\n",
            "Average F1-Score: 0.8226\n"
          ]
        }
      ],
      "source": [
        "# Calculate and print the average precision, recall, and F1-score\n",
        "average_accuracy = (aspect_accuracy + sentiment_accuracy) / 2\n",
        "average_precision = (aspect_precision + sentiment_precision) / 2\n",
        "average_recall = (aspect_recall + sentiment_recall) / 2\n",
        "average_f1 = (aspect_f1 + sentiment_f1) / 2\n",
        "\n",
        "print(f\"\\n--- AVERAGE METRICS ---\")\n",
        "print(f\"Average Accuracy: {average_accuracy:.4f}\")\n",
        "print(f\"Average Precision: {average_precision:.4f}\")\n",
        "print(f\"Average Recall: {average_recall:.4f}\")\n",
        "print(f\"Average F1-Score: {average_f1:.4f}\")"
      ]
    },
    {
      "cell_type": "markdown",
      "source": [
        "**Function for Plotting Training Loss and Accuracy Curves**"
      ],
      "metadata": {
        "id": "0YeMpMhj1lil"
      }
    },
    {
      "cell_type": "code",
      "execution_count": 61,
      "metadata": {
        "id": "hS0J3t3fDr4t"
      },
      "outputs": [],
      "source": [
        "def plot_training_curves(train_losses, train_accuracies, title):\n",
        "    epochs = range(1, len(train_losses) + 1)\n",
        "\n",
        "    # Plot loss curve\n",
        "    plt.figure(figsize=(12, 6))\n",
        "    plt.subplot(1, 2, 1)\n",
        "    plt.plot(epochs, train_losses, label='Training Loss', color='red')\n",
        "    plt.xlabel('Epoch')\n",
        "    plt.ylabel('Loss')\n",
        "    plt.title(f'{title}: Loss Curve')\n",
        "    plt.xticks(epochs)\n",
        "    plt.legend()\n",
        "\n",
        "    # Plot accuracy curve\n",
        "    plt.subplot(1, 2, 2)\n",
        "    plt.plot(epochs, train_accuracies, label='Training Accuracy', color='blue')\n",
        "    plt.xlabel('Epoch')\n",
        "    plt.ylabel('Accuracy')\n",
        "    plt.title(f'{title}: Accuracy Curve')\n",
        "    plt.xticks(epochs)\n",
        "    plt.legend()\n",
        "\n",
        "    plt.tight_layout()\n",
        "    plt.show()\n"
      ]
    },
    {
      "cell_type": "markdown",
      "source": [
        "**Plotting Training Curves for Aspect Extraction and Sentiment Classification**"
      ],
      "metadata": {
        "id": "mnJ1ohcx1xxc"
      }
    },
    {
      "cell_type": "code",
      "source": [
        "# Plot for Aspect Extraction\n",
        "plot_training_curves(\n",
        "    train_losses=aspect_train_losses,\n",
        "    train_accuracies=aspect_train_accuracies,\n",
        "    title=\"Aspect Extraction\"\n",
        ")\n",
        "\n",
        "# Plot for Sentiment Classification\n",
        "plot_training_curves(\n",
        "    train_losses=sentiment_train_losses,\n",
        "    train_accuracies=sentiment_train_accuracies,\n",
        "    title=\"Sentiment Classification\"\n",
        ")\n"
      ],
      "metadata": {
        "colab": {
          "base_uri": "https://localhost:8080/",
          "height": 1000
        },
        "id": "9oZXScuJVCNd",
        "outputId": "81244104-d42a-4067-afaa-37378b6c2be4"
      },
      "execution_count": 62,
      "outputs": [
        {
          "output_type": "display_data",
          "data": {
            "text/plain": [
              "<Figure size 1200x600 with 2 Axes>"
            ],
            "image/png": "[encoded data removed]"
          },
          "metadata": {}
        },
        {
          "output_type": "display_data",
          "data": {
            "text/plain": [
              "<Figure size 1200x600 with 2 Axes>"
            ],
            "image/png": "[encoded data removed]"
          },
          "metadata": {}
        }
      ]
    }
  ],
  "metadata": {
    "colab": {
      "provenance": [],
      "gpuType": "T4",
      "include_colab_link": true
    },
    "kernelspec": {
      "display_name": "Python 3",
      "name": "python3"
    },
    "language_info": {
      "codemirror_mode": {
        "name": "ipython",
        "version": 3
      },
      "file_extension": ".py",
      "mimetype": "text/x-python",
      "name": "python",
      "nbconvert_exporter": "python",
      "pygments_lexer": "ipython3",
      "version": "3.10.5"
    },
    "widgets": {
      "application/vnd.jupyter.widget-state+json": {
        "cc14df86eba04481b95e2d8c4b3a3636": {
          "model_module": "@jupyter-widgets/controls",
          "model_name": "HBoxModel",
          "model_module_version": "2.0.0",
          "state": {
            "_dom_classes": [],
            "_model_module": "@jupyter-widgets/controls",
            "_model_module_version": "2.0.0",
            "_model_name": "HBoxModel",
            "_view_count": null,
            "_view_module": "@jupyter-widgets/controls",
            "_view_module_version": "2.0.0",
            "_view_name": "HBoxView",
            "box_style": "",
            "children": [
              "IPY_MODEL_7c62dd8191774c779c57c38831e1227a",
              "IPY_MODEL_a55ac50f796e46d6928d357db6b9310f",
              "IPY_MODEL_9a7c63d901e641ec8bcc70516f22ac5f"
            ],
            "layout": "IPY_MODEL_3cfc03c125d249d8a37b5a617d8547ee",
            "tabbable": null,
            "tooltip": null
          }
        },
        "7c62dd8191774c779c57c38831e1227a": {
          "model_module": "@jupyter-widgets/controls",
          "model_name": "HTMLModel",
          "model_module_version": "2.0.0",
          "state": {
            "_dom_classes": [],
            "_model_module": "@jupyter-widgets/controls",
            "_model_module_version": "2.0.0",
            "_model_name": "HTMLModel",
            "_view_count": null,
            "_view_module": "@jupyter-widgets/controls",
            "_view_module_version": "2.0.0",
            "_view_name": "HTMLView",
            "description": "",
            "description_allow_html": false,
            "layout": "IPY_MODEL_382994686b594a0180c9bef9089288fb",
            "placeholder": "​",
            "style": "IPY_MODEL_b7527ff49e294dafaa4a4033c521c959",
            "tabbable": null,
            "tooltip": null,
            "value": "Map: 100%"
          }
        },
        "a55ac50f796e46d6928d357db6b9310f": {
          "model_module": "@jupyter-widgets/controls",
          "model_name": "FloatProgressModel",
          "model_module_version": "2.0.0",
          "state": {
            "_dom_classes": [],
            "_model_module": "@jupyter-widgets/controls",
            "_model_module_version": "2.0.0",
            "_model_name": "FloatProgressModel",
            "_view_count": null,
            "_view_module": "@jupyter-widgets/controls",
            "_view_module_version": "2.0.0",
            "_view_name": "ProgressView",
            "bar_style": "success",
            "description": "",
            "description_allow_html": false,
            "layout": "IPY_MODEL_c303234aedd64b7a95395d83b733fe01",
            "max": 8000,
            "min": 0,
            "orientation": "horizontal",
            "style": "IPY_MODEL_1cb777ff283e439bbedc640e180e1668",
            "tabbable": null,
            "tooltip": null,
            "value": 8000
          }
        },
        "9a7c63d901e641ec8bcc70516f22ac5f": {
          "model_module": "@jupyter-widgets/controls",
          "model_name": "HTMLModel",
          "model_module_version": "2.0.0",
          "state": {
            "_dom_classes": [],
            "_model_module": "@jupyter-widgets/controls",
            "_model_module_version": "2.0.0",
            "_model_name": "HTMLModel",
            "_view_count": null,
            "_view_module": "@jupyter-widgets/controls",
            "_view_module_version": "2.0.0",
            "_view_name": "HTMLView",
            "description": "",
            "description_allow_html": false,
            "layout": "IPY_MODEL_88ff81fc72f64a199ce1d9872cdb2a8f",
            "placeholder": "​",
            "style": "IPY_MODEL_8e5686bb214d4b4c9827dc581d27c5f0",
            "tabbable": null,
            "tooltip": null,
            "value": " 8000/8000 [00:04&lt;00:00, 1333.88 examples/s]"
          }
        },
        "3cfc03c125d249d8a37b5a617d8547ee": {
          "model_module": "@jupyter-widgets/base",
          "model_name": "LayoutModel",
          "model_module_version": "2.0.0",
          "state": {
            "_model_module": "@jupyter-widgets/base",
            "_model_module_version": "2.0.0",
            "_model_name": "LayoutModel",
            "_view_count": null,
            "_view_module": "@jupyter-widgets/base",
            "_view_module_version": "2.0.0",
            "_view_name": "LayoutView",
            "align_content": null,
            "align_items": null,
            "align_self": null,
            "border_bottom": null,
            "border_left": null,
            "border_right": null,
            "border_top": null,
            "bottom": null,
            "display": null,
            "flex": null,
            "flex_flow": null,
            "grid_area": null,
            "grid_auto_columns": null,
            "grid_auto_flow": null,
            "grid_auto_rows": null,
            "grid_column": null,
            "grid_gap": null,
            "grid_row": null,
            "grid_template_areas": null,
            "grid_template_columns": null,
            "grid_template_rows": null,
            "height": null,
            "justify_content": null,
            "justify_items": null,
            "left": null,
            "margin": null,
            "max_height": null,
            "max_width": null,
            "min_height": null,
            "min_width": null,
            "object_fit": null,
            "object_position": null,
            "order": null,
            "overflow": null,
            "padding": null,
            "right": null,
            "top": null,
            "visibility": null,
            "width": null
          }
        },
        "382994686b594a0180c9bef9089288fb": {
          "model_module": "@jupyter-widgets/base",
          "model_name": "LayoutModel",
          "model_module_version": "2.0.0",
          "state": {
            "_model_module": "@jupyter-widgets/base",
            "_model_module_version": "2.0.0",
            "_model_name": "LayoutModel",
            "_view_count": null,
            "_view_module": "@jupyter-widgets/base",
            "_view_module_version": "2.0.0",
            "_view_name": "LayoutView",
            "align_content": null,
            "align_items": null,
            "align_self": null,
            "border_bottom": null,
            "border_left": null,
            "border_right": null,
            "border_top": null,
            "bottom": null,
            "display": null,
            "flex": null,
            "flex_flow": null,
            "grid_area": null,
            "grid_auto_columns": null,
            "grid_auto_flow": null,
            "grid_auto_rows": null,
            "grid_column": null,
            "grid_gap": null,
            "grid_row": null,
            "grid_template_areas": null,
            "grid_template_columns": null,
            "grid_template_rows": null,
            "height": null,
            "justify_content": null,
            "justify_items": null,
            "left": null,
            "margin": null,
            "max_height": null,
            "max_width": null,
            "min_height": null,
            "min_width": null,
            "object_fit": null,
            "object_position": null,
            "order": null,
            "overflow": null,
            "padding": null,
            "right": null,
            "top": null,
            "visibility": null,
            "width": null
          }
        },
        "b7527ff49e294dafaa4a4033c521c959": {
          "model_module": "@jupyter-widgets/controls",
          "model_name": "HTMLStyleModel",
          "model_module_version": "2.0.0",
          "state": {
            "_model_module": "@jupyter-widgets/controls",
            "_model_module_version": "2.0.0",
            "_model_name": "HTMLStyleModel",
            "_view_count": null,
            "_view_module": "@jupyter-widgets/base",
            "_view_module_version": "2.0.0",
            "_view_name": "StyleView",
            "background": null,
            "description_width": "",
            "font_size": null,
            "text_color": null
          }
        },
        "c303234aedd64b7a95395d83b733fe01": {
          "model_module": "@jupyter-widgets/base",
          "model_name": "LayoutModel",
          "model_module_version": "2.0.0",
          "state": {
            "_model_module": "@jupyter-widgets/base",
            "_model_module_version": "2.0.0",
            "_model_name": "LayoutModel",
            "_view_count": null,
            "_view_module": "@jupyter-widgets/base",
            "_view_module_version": "2.0.0",
            "_view_name": "LayoutView",
            "align_content": null,
            "align_items": null,
            "align_self": null,
            "border_bottom": null,
            "border_left": null,
            "border_right": null,
            "border_top": null,
            "bottom": null,
            "display": null,
            "flex": null,
            "flex_flow": null,
            "grid_area": null,
            "grid_auto_columns": null,
            "grid_auto_flow": null,
            "grid_auto_rows": null,
            "grid_column": null,
            "grid_gap": null,
            "grid_row": null,
            "grid_template_areas": null,
            "grid_template_columns": null,
            "grid_template_rows": null,
            "height": null,
            "justify_content": null,
            "justify_items": null,
            "left": null,
            "margin": null,
            "max_height": null,
            "max_width": null,
            "min_height": null,
            "min_width": null,
            "object_fit": null,
            "object_position": null,
            "order": null,
            "overflow": null,
            "padding": null,
            "right": null,
            "top": null,
            "visibility": null,
            "width": null
          }
        },
        "1cb777ff283e439bbedc640e180e1668": {
          "model_module": "@jupyter-widgets/controls",
          "model_name": "ProgressStyleModel",
          "model_module_version": "2.0.0",
          "state": {
            "_model_module": "@jupyter-widgets/controls",
            "_model_module_version": "2.0.0",
            "_model_name": "ProgressStyleModel",
            "_view_count": null,
            "_view_module": "@jupyter-widgets/base",
            "_view_module_version": "2.0.0",
            "_view_name": "StyleView",
            "bar_color": null,
            "description_width": ""
          }
        },
        "88ff81fc72f64a199ce1d9872cdb2a8f": {
          "model_module": "@jupyter-widgets/base",
          "model_name": "LayoutModel",
          "model_module_version": "2.0.0",
          "state": {
            "_model_module": "@jupyter-widgets/base",
            "_model_module_version": "2.0.0",
            "_model_name": "LayoutModel",
            "_view_count": null,
            "_view_module": "@jupyter-widgets/base",
            "_view_module_version": "2.0.0",
            "_view_name": "LayoutView",
            "align_content": null,
            "align_items": null,
            "align_self": null,
            "border_bottom": null,
            "border_left": null,
            "border_right": null,
            "border_top": null,
            "bottom": null,
            "display": null,
            "flex": null,
            "flex_flow": null,
            "grid_area": null,
            "grid_auto_columns": null,
            "grid_auto_flow": null,
            "grid_auto_rows": null,
            "grid_column": null,
            "grid_gap": null,
            "grid_row": null,
            "grid_template_areas": null,
            "grid_template_columns": null,
            "grid_template_rows": null,
            "height": null,
            "justify_content": null,
            "justify_items": null,
            "left": null,
            "margin": null,
            "max_height": null,
            "max_width": null,
            "min_height": null,
            "min_width": null,
            "object_fit": null,
            "object_position": null,
            "order": null,
            "overflow": null,
            "padding": null,
            "right": null,
            "top": null,
            "visibility": null,
            "width": null
          }
        },
        "8e5686bb214d4b4c9827dc581d27c5f0": {
          "model_module": "@jupyter-widgets/controls",
          "model_name": "HTMLStyleModel",
          "model_module_version": "2.0.0",
          "state": {
            "_model_module": "@jupyter-widgets/controls",
            "_model_module_version": "2.0.0",
            "_model_name": "HTMLStyleModel",
            "_view_count": null,
            "_view_module": "@jupyter-widgets/base",
            "_view_module_version": "2.0.0",
            "_view_name": "StyleView",
            "background": null,
            "description_width": "",
            "font_size": null,
            "text_color": null
          }
        },
        "7fe1ad5aab974df9a665637daee51382": {
          "model_module": "@jupyter-widgets/controls",
          "model_name": "HBoxModel",
          "model_module_version": "2.0.0",
          "state": {
            "_dom_classes": [],
            "_model_module": "@jupyter-widgets/controls",
            "_model_module_version": "2.0.0",
            "_model_name": "HBoxModel",
            "_view_count": null,
            "_view_module": "@jupyter-widgets/controls",
            "_view_module_version": "2.0.0",
            "_view_name": "HBoxView",
            "box_style": "",
            "children": [
              "IPY_MODEL_283eabb50881487aa12f6635abd08bc8",
              "IPY_MODEL_f9c82c1fadca4294a0cc611e2f831993",
              "IPY_MODEL_d8834abac8174159882ea52d6d36945e"
            ],
            "layout": "IPY_MODEL_c3cbed3c8a744dd092c43aed14094ee8",
            "tabbable": null,
            "tooltip": null
          }
        },
        "283eabb50881487aa12f6635abd08bc8": {
          "model_module": "@jupyter-widgets/controls",
          "model_name": "HTMLModel",
          "model_module_version": "2.0.0",
          "state": {
            "_dom_classes": [],
            "_model_module": "@jupyter-widgets/controls",
            "_model_module_version": "2.0.0",
            "_model_name": "HTMLModel",
            "_view_count": null,
            "_view_module": "@jupyter-widgets/controls",
            "_view_module_version": "2.0.0",
            "_view_name": "HTMLView",
            "description": "",
            "description_allow_html": false,
            "layout": "IPY_MODEL_4a186c560b654aca83a5c975e14c6183",
            "placeholder": "​",
            "style": "IPY_MODEL_419205548ff748e2a29c4e5896bc7a8d",
            "tabbable": null,
            "tooltip": null,
            "value": "Map: 100%"
          }
        },
        "f9c82c1fadca4294a0cc611e2f831993": {
          "model_module": "@jupyter-widgets/controls",
          "model_name": "FloatProgressModel",
          "model_module_version": "2.0.0",
          "state": {
            "_dom_classes": [],
            "_model_module": "@jupyter-widgets/controls",
            "_model_module_version": "2.0.0",
            "_model_name": "FloatProgressModel",
            "_view_count": null,
            "_view_module": "@jupyter-widgets/controls",
            "_view_module_version": "2.0.0",
            "_view_name": "ProgressView",
            "bar_style": "success",
            "description": "",
            "description_allow_html": false,
            "layout": "IPY_MODEL_9db37698888d4297a71335a0de1dc407",
            "max": 2000,
            "min": 0,
            "orientation": "horizontal",
            "style": "IPY_MODEL_0fad005dfe2c418bbcc43317262fbbc3",
            "tabbable": null,
            "tooltip": null,
            "value": 2000
          }
        },
        "d8834abac8174159882ea52d6d36945e": {
          "model_module": "@jupyter-widgets/controls",
          "model_name": "HTMLModel",
          "model_module_version": "2.0.0",
          "state": {
            "_dom_classes": [],
            "_model_module": "@jupyter-widgets/controls",
            "_model_module_version": "2.0.0",
            "_model_name": "HTMLModel",
            "_view_count": null,
            "_view_module": "@jupyter-widgets/controls",
            "_view_module_version": "2.0.0",
            "_view_name": "HTMLView",
            "description": "",
            "description_allow_html": false,
            "layout": "IPY_MODEL_dd0f9924cddd4d9f972367e79f341d87",
            "placeholder": "​",
            "style": "IPY_MODEL_8067c44c8c4641d5b24707fb21cbee82",
            "tabbable": null,
            "tooltip": null,
            "value": " 2000/2000 [00:00&lt;00:00, 2699.45 examples/s]"
          }
        },
        "c3cbed3c8a744dd092c43aed14094ee8": {
          "model_module": "@jupyter-widgets/base",
          "model_name": "LayoutModel",
          "model_module_version": "2.0.0",
          "state": {
            "_model_module": "@jupyter-widgets/base",
            "_model_module_version": "2.0.0",
            "_model_name": "LayoutModel",
            "_view_count": null,
            "_view_module": "@jupyter-widgets/base",
            "_view_module_version": "2.0.0",
            "_view_name": "LayoutView",
            "align_content": null,
            "align_items": null,
            "align_self": null,
            "border_bottom": null,
            "border_left": null,
            "border_right": null,
            "border_top": null,
            "bottom": null,
            "display": null,
            "flex": null,
            "flex_flow": null,
            "grid_area": null,
            "grid_auto_columns": null,
            "grid_auto_flow": null,
            "grid_auto_rows": null,
            "grid_column": null,
            "grid_gap": null,
            "grid_row": null,
            "grid_template_areas": null,
            "grid_template_columns": null,
            "grid_template_rows": null,
            "height": null,
            "justify_content": null,
            "justify_items": null,
            "left": null,
            "margin": null,
            "max_height": null,
            "max_width": null,
            "min_height": null,
            "min_width": null,
            "object_fit": null,
            "object_position": null,
            "order": null,
            "overflow": null,
            "padding": null,
            "right": null,
            "top": null,
            "visibility": null,
            "width": null
          }
        },
        "4a186c560b654aca83a5c975e14c6183": {
          "model_module": "@jupyter-widgets/base",
          "model_name": "LayoutModel",
          "model_module_version": "2.0.0",
          "state": {
            "_model_module": "@jupyter-widgets/base",
            "_model_module_version": "2.0.0",
            "_model_name": "LayoutModel",
            "_view_count": null,
            "_view_module": "@jupyter-widgets/base",
            "_view_module_version": "2.0.0",
            "_view_name": "LayoutView",
            "align_content": null,
            "align_items": null,
            "align_self": null,
            "border_bottom": null,
            "border_left": null,
            "border_right": null,
            "border_top": null,
            "bottom": null,
            "display": null,
            "flex": null,
            "flex_flow": null,
            "grid_area": null,
            "grid_auto_columns": null,
            "grid_auto_flow": null,
            "grid_auto_rows": null,
            "grid_column": null,
            "grid_gap": null,
            "grid_row": null,
            "grid_template_areas": null,
            "grid_template_columns": null,
            "grid_template_rows": null,
            "height": null,
            "justify_content": null,
            "justify_items": null,
            "left": null,
            "margin": null,
            "max_height": null,
            "max_width": null,
            "min_height": null,
            "min_width": null,
            "object_fit": null,
            "object_position": null,
            "order": null,
            "overflow": null,
            "padding": null,
            "right": null,
            "top": null,
            "visibility": null,
            "width": null
          }
        },
        "419205548ff748e2a29c4e5896bc7a8d": {
          "model_module": "@jupyter-widgets/controls",
          "model_name": "HTMLStyleModel",
          "model_module_version": "2.0.0",
          "state": {
            "_model_module": "@jupyter-widgets/controls",
            "_model_module_version": "2.0.0",
            "_model_name": "HTMLStyleModel",
            "_view_count": null,
            "_view_module": "@jupyter-widgets/base",
            "_view_module_version": "2.0.0",
            "_view_name": "StyleView",
            "background": null,
            "description_width": "",
            "font_size": null,
            "text_color": null
          }
        },
        "9db37698888d4297a71335a0de1dc407": {
          "model_module": "@jupyter-widgets/base",
          "model_name": "LayoutModel",
          "model_module_version": "2.0.0",
          "state": {
            "_model_module": "@jupyter-widgets/base",
            "_model_module_version": "2.0.0",
            "_model_name": "LayoutModel",
            "_view_count": null,
            "_view_module": "@jupyter-widgets/base",
            "_view_module_version": "2.0.0",
            "_view_name": "LayoutView",
            "align_content": null,
            "align_items": null,
            "align_self": null,
            "border_bottom": null,
            "border_left": null,
            "border_right": null,
            "border_top": null,
            "bottom": null,
            "display": null,
            "flex": null,
            "flex_flow": null,
            "grid_area": null,
            "grid_auto_columns": null,
            "grid_auto_flow": null,
            "grid_auto_rows": null,
            "grid_column": null,
            "grid_gap": null,
            "grid_row": null,
            "grid_template_areas": null,
            "grid_template_columns": null,
            "grid_template_rows": null,
            "height": null,
            "justify_content": null,
            "justify_items": null,
            "left": null,
            "margin": null,
            "max_height": null,
            "max_width": null,
            "min_height": null,
            "min_width": null,
            "object_fit": null,
            "object_position": null,
            "order": null,
            "overflow": null,
            "padding": null,
            "right": null,
            "top": null,
            "visibility": null,
            "width": null
          }
        },
        "0fad005dfe2c418bbcc43317262fbbc3": {
          "model_module": "@jupyter-widgets/controls",
          "model_name": "ProgressStyleModel",
          "model_module_version": "2.0.0",
          "state": {
            "_model_module": "@jupyter-widgets/controls",
            "_model_module_version": "2.0.0",
            "_model_name": "ProgressStyleModel",
            "_view_count": null,
            "_view_module": "@jupyter-widgets/base",
            "_view_module_version": "2.0.0",
            "_view_name": "StyleView",
            "bar_color": null,
            "description_width": ""
          }
        },
        "dd0f9924cddd4d9f972367e79f341d87": {
          "model_module": "@jupyter-widgets/base",
          "model_name": "LayoutModel",
          "model_module_version": "2.0.0",
          "state": {
            "_model_module": "@jupyter-widgets/base",
            "_model_module_version": "2.0.0",
            "_model_name": "LayoutModel",
            "_view_count": null,
            "_view_module": "@jupyter-widgets/base",
            "_view_module_version": "2.0.0",
            "_view_name": "LayoutView",
            "align_content": null,
            "align_items": null,
            "align_self": null,
            "border_bottom": null,
            "border_left": null,
            "border_right": null,
            "border_top": null,
            "bottom": null,
            "display": null,
            "flex": null,
            "flex_flow": null,
            "grid_area": null,
            "grid_auto_columns": null,
            "grid_auto_flow": null,
            "grid_auto_rows": null,
            "grid_column": null,
            "grid_gap": null,
            "grid_row": null,
            "grid_template_areas": null,
            "grid_template_columns": null,
            "grid_template_rows": null,
            "height": null,
            "justify_content": null,
            "justify_items": null,
            "left": null,
            "margin": null,
            "max_height": null,
            "max_width": null,
            "min_height": null,
            "min_width": null,
            "object_fit": null,
            "object_position": null,
            "order": null,
            "overflow": null,
            "padding": null,
            "right": null,
            "top": null,
            "visibility": null,
            "width": null
          }
        },
        "8067c44c8c4641d5b24707fb21cbee82": {
          "model_module": "@jupyter-widgets/controls",
          "model_name": "HTMLStyleModel",
          "model_module_version": "2.0.0",
          "state": {
            "_model_module": "@jupyter-widgets/controls",
            "_model_module_version": "2.0.0",
            "_model_name": "HTMLStyleModel",
            "_view_count": null,
            "_view_module": "@jupyter-widgets/base",
            "_view_module_version": "2.0.0",
            "_view_name": "StyleView",
            "background": null,
            "description_width": "",
            "font_size": null,
            "text_color": null
          }
        }
      }
    },
    "accelerator": "GPU"
  },
  "nbformat": 4,
  "nbformat_minor": 0
}